{
 "cells": [
  {
   "cell_type": "markdown",
   "metadata": {},
   "source": [
    "# Analyzing connections in Baltimore shooting data\n",
    "\n",
    "This notebook takes the data standardized in the first step and runs various calculations on it — primarily related to cases connected by a common suspect or victim."
   ]
  },
  {
   "cell_type": "code",
   "execution_count": 1,
   "metadata": {},
   "outputs": [],
   "source": [
    "import pandas as pd\n",
    "import networkx as nx\n",
    "import geopandas as gpd\n",
    "from shapely.geometry import Point, LineString\n",
    "from pyproj import Proj, transform\n",
    "import matplotlib.pyplot as plt"
   ]
  },
  {
   "cell_type": "markdown",
   "metadata": {},
   "source": [
    "This function lets us write basic findings to a logfile:"
   ]
  },
  {
   "cell_type": "code",
   "execution_count": 2,
   "metadata": {},
   "outputs": [],
   "source": [
    "def log(obj, description):\n",
    "    print(description + \":\")\n",
    "    with open(\"../outputs/log.txt\", \"a\") as f:\n",
    "        f.write(f\"{description}:\\n\\n{obj}\\n\\n---\\n\")\n",
    "    return obj"
   ]
  },
  {
   "cell_type": "markdown",
   "metadata": {},
   "source": [
    "## Load persons named in Baltimore database"
   ]
  },
  {
   "cell_type": "code",
   "execution_count": 3,
   "metadata": {},
   "outputs": [
    {
     "data": {
      "text/html": [
       "<div>\n",
       "<style scoped>\n",
       "    .dataframe tbody tr th:only-of-type {\n",
       "        vertical-align: middle;\n",
       "    }\n",
       "\n",
       "    .dataframe tbody tr th {\n",
       "        vertical-align: top;\n",
       "    }\n",
       "\n",
       "    .dataframe thead th {\n",
       "        text-align: right;\n",
       "    }\n",
       "</style>\n",
       "<table border=\"1\" class=\"dataframe\">\n",
       "  <thead>\n",
       "    <tr style=\"text-align: right;\">\n",
       "      <th></th>\n",
       "      <th>0</th>\n",
       "      <th>1</th>\n",
       "      <th>2</th>\n",
       "      <th>3</th>\n",
       "      <th>4</th>\n",
       "    </tr>\n",
       "  </thead>\n",
       "  <tbody>\n",
       "    <tr>\n",
       "      <th>CASE_NUMBER</th>\n",
       "      <td>12V0001</td>\n",
       "      <td>12H0001</td>\n",
       "      <td>12V0002</td>\n",
       "      <td>12V0002</td>\n",
       "      <td>12V0002</td>\n",
       "    </tr>\n",
       "    <tr>\n",
       "      <th>CASE_DATE</th>\n",
       "      <td>2012-01-01</td>\n",
       "      <td>2012-01-03</td>\n",
       "      <td>2012-01-03</td>\n",
       "      <td>2012-01-03</td>\n",
       "      <td>2012-01-03</td>\n",
       "    </tr>\n",
       "    <tr>\n",
       "      <th>CASE_ADDRESS</th>\n",
       "      <td>500 OAKLAND AV</td>\n",
       "      <td>4000 EDGEWOOD RD</td>\n",
       "      <td>2300 OREM AV</td>\n",
       "      <td>2300 OREM AV</td>\n",
       "      <td>2300 OREM AV</td>\n",
       "    </tr>\n",
       "    <tr>\n",
       "      <th>CASE_STATUS</th>\n",
       "      <td>OPEN</td>\n",
       "      <td>OPEN</td>\n",
       "      <td>CLOSED</td>\n",
       "      <td>CLOSED</td>\n",
       "      <td>CLOSED</td>\n",
       "    </tr>\n",
       "    <tr>\n",
       "      <th>DESCRIPTION</th>\n",
       "      <td>VICTIM</td>\n",
       "      <td>VICTIM</td>\n",
       "      <td>SUSPECT</td>\n",
       "      <td>SUSPECT</td>\n",
       "      <td>VICTIM</td>\n",
       "    </tr>\n",
       "    <tr>\n",
       "      <th>VICT_TYPE</th>\n",
       "      <td>NON FATAL SHOOTING</td>\n",
       "      <td>HOMICIDE SHOOTING</td>\n",
       "      <td>NaN</td>\n",
       "      <td>NaN</td>\n",
       "      <td>NON FATAL SHOOTING</td>\n",
       "    </tr>\n",
       "    <tr>\n",
       "      <th>vict_type_generic</th>\n",
       "      <td>NON FATAL SHOOTING</td>\n",
       "      <td>HOMICIDE</td>\n",
       "      <td>NaN</td>\n",
       "      <td>NaN</td>\n",
       "      <td>NON FATAL SHOOTING</td>\n",
       "    </tr>\n",
       "    <tr>\n",
       "      <th>case_vict_type_generic</th>\n",
       "      <td>NON FATAL SHOOTING</td>\n",
       "      <td>HOMICIDE</td>\n",
       "      <td>NON FATAL SHOOTING</td>\n",
       "      <td>NON FATAL SHOOTING</td>\n",
       "      <td>NON FATAL SHOOTING</td>\n",
       "    </tr>\n",
       "    <tr>\n",
       "      <th>weapon_inferred</th>\n",
       "      <td>Firearm</td>\n",
       "      <td>Firearm</td>\n",
       "      <td>Firearm</td>\n",
       "      <td>Firearm</td>\n",
       "      <td>Firearm</td>\n",
       "    </tr>\n",
       "    <tr>\n",
       "      <th>name_is_vague</th>\n",
       "      <td>0</td>\n",
       "      <td>0</td>\n",
       "      <td>0</td>\n",
       "      <td>0</td>\n",
       "      <td>0</td>\n",
       "    </tr>\n",
       "    <tr>\n",
       "      <th>null_dob</th>\n",
       "      <td>0</td>\n",
       "      <td>0</td>\n",
       "      <td>0</td>\n",
       "      <td>0</td>\n",
       "      <td>0</td>\n",
       "    </tr>\n",
       "    <tr>\n",
       "      <th>age_at_case</th>\n",
       "      <td>13</td>\n",
       "      <td>62</td>\n",
       "      <td>15</td>\n",
       "      <td>15</td>\n",
       "      <td>62</td>\n",
       "    </tr>\n",
       "    <tr>\n",
       "      <th>RACE</th>\n",
       "      <td>BLACK</td>\n",
       "      <td>BLACK</td>\n",
       "      <td>BLACK</td>\n",
       "      <td>BLACK</td>\n",
       "      <td>BLACK</td>\n",
       "    </tr>\n",
       "    <tr>\n",
       "      <th>SEX</th>\n",
       "      <td>MALE</td>\n",
       "      <td>MALE</td>\n",
       "      <td>MALE</td>\n",
       "      <td>MALE</td>\n",
       "      <td>MALE</td>\n",
       "    </tr>\n",
       "    <tr>\n",
       "      <th>person_uid_is_custom_match</th>\n",
       "      <td>0</td>\n",
       "      <td>0</td>\n",
       "      <td>0</td>\n",
       "      <td>0</td>\n",
       "      <td>0</td>\n",
       "    </tr>\n",
       "    <tr>\n",
       "      <th>person_uid</th>\n",
       "      <td>41b10e399d</td>\n",
       "      <td>031694ec35</td>\n",
       "      <td>c879b0a6cf</td>\n",
       "      <td>eaa8feed13</td>\n",
       "      <td>92f7c6f0fc</td>\n",
       "    </tr>\n",
       "  </tbody>\n",
       "</table>\n",
       "</div>"
      ],
      "text/plain": [
       "                                             0                  1  \\\n",
       "CASE_NUMBER                            12V0001            12H0001   \n",
       "CASE_DATE                           2012-01-01         2012-01-03   \n",
       "CASE_ADDRESS                    500 OAKLAND AV   4000 EDGEWOOD RD   \n",
       "CASE_STATUS                               OPEN               OPEN   \n",
       "DESCRIPTION                             VICTIM             VICTIM   \n",
       "VICT_TYPE                   NON FATAL SHOOTING  HOMICIDE SHOOTING   \n",
       "vict_type_generic           NON FATAL SHOOTING           HOMICIDE   \n",
       "case_vict_type_generic      NON FATAL SHOOTING           HOMICIDE   \n",
       "weapon_inferred                        Firearm            Firearm   \n",
       "name_is_vague                                0                  0   \n",
       "null_dob                                     0                  0   \n",
       "age_at_case                                 13                 62   \n",
       "RACE                                     BLACK              BLACK   \n",
       "SEX                                       MALE               MALE   \n",
       "person_uid_is_custom_match                   0                  0   \n",
       "person_uid                          41b10e399d         031694ec35   \n",
       "\n",
       "                                             2                   3  \\\n",
       "CASE_NUMBER                            12V0002             12V0002   \n",
       "CASE_DATE                           2012-01-03          2012-01-03   \n",
       "CASE_ADDRESS                      2300 OREM AV        2300 OREM AV   \n",
       "CASE_STATUS                             CLOSED              CLOSED   \n",
       "DESCRIPTION                            SUSPECT             SUSPECT   \n",
       "VICT_TYPE                                  NaN                 NaN   \n",
       "vict_type_generic                          NaN                 NaN   \n",
       "case_vict_type_generic      NON FATAL SHOOTING  NON FATAL SHOOTING   \n",
       "weapon_inferred                        Firearm             Firearm   \n",
       "name_is_vague                                0                   0   \n",
       "null_dob                                     0                   0   \n",
       "age_at_case                                 15                  15   \n",
       "RACE                                     BLACK               BLACK   \n",
       "SEX                                       MALE                MALE   \n",
       "person_uid_is_custom_match                   0                   0   \n",
       "person_uid                          c879b0a6cf          eaa8feed13   \n",
       "\n",
       "                                             4  \n",
       "CASE_NUMBER                            12V0002  \n",
       "CASE_DATE                           2012-01-03  \n",
       "CASE_ADDRESS                      2300 OREM AV  \n",
       "CASE_STATUS                             CLOSED  \n",
       "DESCRIPTION                             VICTIM  \n",
       "VICT_TYPE                   NON FATAL SHOOTING  \n",
       "vict_type_generic           NON FATAL SHOOTING  \n",
       "case_vict_type_generic      NON FATAL SHOOTING  \n",
       "weapon_inferred                        Firearm  \n",
       "name_is_vague                                0  \n",
       "null_dob                                     0  \n",
       "age_at_case                                 62  \n",
       "RACE                                     BLACK  \n",
       "SEX                                       MALE  \n",
       "person_uid_is_custom_match                   0  \n",
       "person_uid                          92f7c6f0fc  "
      ]
     },
     "execution_count": 3,
     "metadata": {},
     "output_type": "execute_result"
    }
   ],
   "source": [
    "persons = pd.read_csv(\"../inputs/baltimore-shootings-persons.csv\")\n",
    "\n",
    "persons.head().T"
   ]
  },
  {
   "cell_type": "markdown",
   "metadata": {},
   "source": [
    "# Calculate rolling case-counts and closure rates"
   ]
  },
  {
   "cell_type": "code",
   "execution_count": 4,
   "metadata": {},
   "outputs": [],
   "source": [
    "def get_annual_rolling_rates(df):\n",
    "    return (\n",
    "        df\n",
    "        [[\n",
    "            \"CASE_DATE\",\n",
    "            \"CASE_NUMBER\",\n",
    "            \"CASE_STATUS\",\n",
    "        ]]\n",
    "        .drop_duplicates()\n",
    "        .assign(\n",
    "            is_closed = lambda df: df[\"CASE_STATUS\"] == \"CLOSED\",\n",
    "            CASE_DATE = lambda df: pd.to_datetime(df[\"CASE_DATE\"])\n",
    "        )\n",
    "        .groupby([\n",
    "            pd.Grouper(\n",
    "                key = \"CASE_DATE\",\n",
    "                freq = \"D\",\n",
    "            ),\n",
    "        ])\n",
    "        .pipe(lambda grp: pd.DataFrame({\n",
    "            \"incidents_total\": grp.size(),\n",
    "            \"incidents_closed\": grp[\"is_closed\"].sum(),\n",
    "        }))\n",
    "        .fillna(0)\n",
    "        .astype(int)\n",
    "        .rolling(365)\n",
    "        .sum()\n",
    "        .dropna()\n",
    "        .assign(\n",
    "            closure_rate =  lambda df: df[\"incidents_closed\"] / df[\"incidents_total\"]\n",
    "        )\n",
    "        .reset_index()\n",
    "    )"
   ]
  },
  {
   "cell_type": "code",
   "execution_count": 5,
   "metadata": {},
   "outputs": [
    {
     "data": {
      "text/html": [
       "<div>\n",
       "<style scoped>\n",
       "    .dataframe tbody tr th:only-of-type {\n",
       "        vertical-align: middle;\n",
       "    }\n",
       "\n",
       "    .dataframe tbody tr th {\n",
       "        vertical-align: top;\n",
       "    }\n",
       "\n",
       "    .dataframe thead th {\n",
       "        text-align: right;\n",
       "    }\n",
       "</style>\n",
       "<table border=\"1\" class=\"dataframe\">\n",
       "  <thead>\n",
       "    <tr style=\"text-align: right;\">\n",
       "      <th></th>\n",
       "      <th>closure_rate_nonfatal</th>\n",
       "      <th>closure_rate_fatal</th>\n",
       "      <th>incidents_total</th>\n",
       "    </tr>\n",
       "    <tr>\n",
       "      <th>CASE_DATE</th>\n",
       "      <th></th>\n",
       "      <th></th>\n",
       "      <th></th>\n",
       "    </tr>\n",
       "  </thead>\n",
       "  <tbody>\n",
       "    <tr>\n",
       "      <th>2013-01-01</th>\n",
       "      <td>0.513678</td>\n",
       "      <td>0.375000</td>\n",
       "      <td>483</td>\n",
       "    </tr>\n",
       "    <tr>\n",
       "      <th>2013-01-02</th>\n",
       "      <td>0.513678</td>\n",
       "      <td>0.377143</td>\n",
       "      <td>482</td>\n",
       "    </tr>\n",
       "    <tr>\n",
       "      <th>2013-01-03</th>\n",
       "      <td>0.513678</td>\n",
       "      <td>0.377143</td>\n",
       "      <td>482</td>\n",
       "    </tr>\n",
       "    <tr>\n",
       "      <th>2013-01-04</th>\n",
       "      <td>0.519637</td>\n",
       "      <td>0.377143</td>\n",
       "      <td>484</td>\n",
       "    </tr>\n",
       "    <tr>\n",
       "      <th>2013-01-05</th>\n",
       "      <td>0.518182</td>\n",
       "      <td>0.379310</td>\n",
       "      <td>482</td>\n",
       "    </tr>\n",
       "  </tbody>\n",
       "</table>\n",
       "</div>"
      ],
      "text/plain": [
       "            closure_rate_nonfatal  closure_rate_fatal  incidents_total\n",
       "CASE_DATE                                                             \n",
       "2013-01-01               0.513678            0.375000              483\n",
       "2013-01-02               0.513678            0.377143              482\n",
       "2013-01-03               0.513678            0.377143              482\n",
       "2013-01-04               0.519637            0.377143              484\n",
       "2013-01-05               0.518182            0.379310              482"
      ]
     },
     "execution_count": 5,
     "metadata": {},
     "output_type": "execute_result"
    }
   ],
   "source": [
    "rolling_annual_case_counts = (        \n",
    "    persons\n",
    "    .loc[lambda df: df[\"VICT_TYPE\"] == \"NON FATAL SHOOTING\"]\n",
    "    .pipe(get_annual_rolling_rates)\n",
    "    [[ \"CASE_DATE\", \"closure_rate\" ]]\n",
    "    .merge(\n",
    "        persons\n",
    "        .loc[lambda df: df[\"VICT_TYPE\"] == \"HOMICIDE SHOOTING\"]\n",
    "        .pipe(get_annual_rolling_rates)\n",
    "        [[ \"CASE_DATE\", \"closure_rate\" ]],\n",
    "        on = [ \"CASE_DATE\" ],\n",
    "        how = \"left\",\n",
    "        suffixes = [ \"_nonfatal\", \"_fatal\" ]\n",
    "    )\n",
    "    .merge(\n",
    "        persons\n",
    "        .pipe(get_annual_rolling_rates)\n",
    "        [[ \"CASE_DATE\", \"incidents_total\" ]],\n",
    "        how = \"left\",        \n",
    "        on = [ \"CASE_DATE\" ],\n",
    "        suffixes = [ \"_nonfatal\", \"_fatal\" ]\n",
    "    )\n",
    "    .set_index(\"CASE_DATE\")\n",
    "    .loc[\"2013\":\"2016\"]\n",
    "    .astype({ \"incidents_total\": int })\n",
    ")\n",
    "\n",
    "rolling_annual_case_counts.to_csv(\n",
    "    \"../outputs/baltimore-rolling-case-counts-and-closure-rate.csv\"\n",
    ")\n",
    "\n",
    "rolling_annual_case_counts.head()"
   ]
  },
  {
   "cell_type": "code",
   "execution_count": 6,
   "metadata": {},
   "outputs": [
    {
     "data": {
      "image/png": "[encoded data removed]",
      "text/plain": [
       "<Figure size 720x432 with 1 Axes>"
      ]
     },
     "metadata": {},
     "output_type": "display_data"
    }
   ],
   "source": [
    "fig, ax = plt.subplots(\n",
    "    figsize = (10, 6),\n",
    ")\n",
    "\n",
    "(\n",
    "    rolling_annual_case_counts\n",
    "    [[\n",
    "        \"closure_rate_nonfatal\",\n",
    "        \"closure_rate_fatal\"\n",
    "    ]]\n",
    "    .plot(\n",
    "        ax = ax,\n",
    "        lw = 2,\n",
    "        alpha = 0.75\n",
    "    )\n",
    ")\n",
    "\n",
    "ax.figure.set_facecolor(\"white\")\n",
    "\n",
    "ax.yaxis.grid()\n",
    "ax.set_yticks(pd.np.arange(0, 1.1, 0.1))\n",
    "ax.set_yticklabels([ \"{:.0f}%\".format(y * 100)\n",
    "    for y in ax.get_yticks() ])\n",
    "\n",
    "ax.set_xlabel(None)\n",
    "ax.set_ylabel(\"Closure Rate\")\n",
    "ax.set_title(\"Closure Rate — 12-Month Average\")\n",
    "\n",
    "ax.set_ylim(0, 1)\n",
    "ax.axvline(\"2015-04-19\", color = \"red\")\n",
    "pass"
   ]
  },
  {
   "cell_type": "code",
   "execution_count": 7,
   "metadata": {},
   "outputs": [
    {
     "data": {
      "image/png": "[encoded data removed]",
      "text/plain": [
       "<Figure size 720x216 with 1 Axes>"
      ]
     },
     "metadata": {},
     "output_type": "display_data"
    }
   ],
   "source": [
    "fig, ax = plt.subplots(\n",
    "    figsize = (10, 3),\n",
    ")\n",
    "\n",
    "(\n",
    "    rolling_annual_case_counts\n",
    "    [\"incidents_total\"]\n",
    "    .plot(\n",
    "        lw = 3,\n",
    "        color = \"gray\"\n",
    "    )\n",
    ")\n",
    "\n",
    "ax.axvline(\"2015-04-19\", color = \"red\")\n",
    "\n",
    "ax.set_ylim(0, None)\n",
    "ax.yaxis.grid(True)\n",
    "\n",
    "ax.figure.set_facecolor(\"white\")\n",
    "\n",
    "ax.set_xlabel(None)\n",
    "ax.set_xticks(ax.get_xticks())\n",
    "\n",
    "ax.legend([\"Total Incidents\"])\n",
    "pass"
   ]
  },
  {
   "cell_type": "code",
   "execution_count": 8,
   "metadata": {},
   "outputs": [
    {
     "name": "stdout",
     "output_type": "stream",
     "text": [
      "Number of shooting cases in 12-month period ending 2015-04-19:\n"
     ]
    },
    {
     "data": {
      "text/plain": [
       "498.0"
      ]
     },
     "execution_count": 8,
     "metadata": {},
     "output_type": "execute_result"
    }
   ],
   "source": [
    "log((    \n",
    "    rolling_annual_case_counts\n",
    "    .loc[\"2015-04-19\"]\n",
    "    [\"incidents_total\"]\n",
    "), \"Number of shooting cases in 12-month period ending 2015-04-19\")"
   ]
  },
  {
   "cell_type": "code",
   "execution_count": 9,
   "metadata": {},
   "outputs": [
    {
     "name": "stdout",
     "output_type": "stream",
     "text": [
      "Number of shooting cases in 12-month period ending 2016-04-19:\n"
     ]
    },
    {
     "data": {
      "text/plain": [
       "839.0"
      ]
     },
     "execution_count": 9,
     "metadata": {},
     "output_type": "execute_result"
    }
   ],
   "source": [
    "log((    \n",
    "    rolling_annual_case_counts\n",
    "    .loc[\"2016-04-19\"]\n",
    "    [\"incidents_total\"]    \n",
    "), \"Number of shooting cases in 12-month period ending 2016-04-19\")"
   ]
  },
  {
   "cell_type": "code",
   "execution_count": 10,
   "metadata": {},
   "outputs": [
    {
     "data": {
      "text/plain": [
       "OPEN            3248\n",
       "CLOSED          2903\n",
       "OPEN/WARRANT      12\n",
       "Name: CASE_STATUS, dtype: int64"
      ]
     },
     "execution_count": 10,
     "metadata": {},
     "output_type": "execute_result"
    }
   ],
   "source": [
    "persons[\"CASE_STATUS\"].value_counts()"
   ]
  },
  {
   "cell_type": "code",
   "execution_count": 11,
   "metadata": {},
   "outputs": [],
   "source": [
    "# Ensure that there's only one case status per incident\n",
    "assert (\n",
    "    persons\n",
    "    .groupby([\n",
    "        \"CASE_NUMBER\",\n",
    "    ])\n",
    "    [\"CASE_STATUS\"]\n",
    "    .nunique()\n",
    "    .max()\n",
    ") == 1"
   ]
  },
  {
   "cell_type": "code",
   "execution_count": 12,
   "metadata": {},
   "outputs": [
    {
     "name": "stdout",
     "output_type": "stream",
     "text": [
      "Closure rate for cases from April 20, 2015 through end of 2015:\n"
     ]
    },
    {
     "data": {
      "text/plain": [
       "0.253"
      ]
     },
     "execution_count": 12,
     "metadata": {},
     "output_type": "execute_result"
    }
   ],
   "source": [
    "log(round((\n",
    "    persons\n",
    "    .loc[lambda df: df[\"CASE_DATE\"] >= \"2015-04-20\"]\n",
    "    .loc[lambda df: df[\"CASE_DATE\"] < \"2016\"]\n",
    "    [[\n",
    "        \"CASE_NUMBER\",\n",
    "        \"CASE_STATUS\"\n",
    "    ]]\n",
    "    .drop_duplicates()\n",
    "    .pipe(lambda df: df[\"CASE_STATUS\"] == \"CLOSED\")\n",
    "    .mean()\n",
    "), 3), \"Closure rate for cases from April 20, 2015 through end of 2015\")"
   ]
  },
  {
   "cell_type": "code",
   "execution_count": 13,
   "metadata": {},
   "outputs": [
    {
     "name": "stdout",
     "output_type": "stream",
     "text": [
      "Cases from 2015 and 2016 marked 'OPEN', as of mid-2017:\n"
     ]
    },
    {
     "data": {
      "text/plain": [
       "1146"
      ]
     },
     "execution_count": 13,
     "metadata": {},
     "output_type": "execute_result"
    }
   ],
   "source": [
    "log(round(\n",
    "    persons\n",
    "    .loc[lambda df: df[\"CASE_DATE\"] >= \"2015\"]\n",
    "    .loc[lambda df: df[\"CASE_DATE\"] < \"2017\"]\n",
    "    [[\n",
    "        \"CASE_NUMBER\",\n",
    "        \"CASE_STATUS\"\n",
    "    ]]\n",
    "    .drop_duplicates()\n",
    "    .pipe(lambda df: df[\"CASE_STATUS\"] == \"OPEN\")\n",
    "    .sum()\n",
    "), \"Cases from 2015 and 2016 marked 'OPEN', as of mid-2017\")"
   ]
  },
  {
   "cell_type": "markdown",
   "metadata": {},
   "source": [
    "## Calculate basic statistics on cases, suspects, and victims"
   ]
  },
  {
   "cell_type": "code",
   "execution_count": 14,
   "metadata": {},
   "outputs": [
    {
     "name": "stdout",
     "output_type": "stream",
     "text": [
      "Number of distinct case numbers:\n"
     ]
    },
    {
     "data": {
      "text/plain": [
       "3479"
      ]
     },
     "execution_count": 14,
     "metadata": {},
     "output_type": "execute_result"
    }
   ],
   "source": [
    "log((    \n",
    "    persons[\"CASE_NUMBER\"].nunique()\n",
    "), \"Number of distinct case numbers\")"
   ]
  },
  {
   "cell_type": "code",
   "execution_count": 15,
   "metadata": {},
   "outputs": [
    {
     "name": "stdout",
     "output_type": "stream",
     "text": [
      "Earliest case date:\n"
     ]
    },
    {
     "data": {
      "text/plain": [
       "'2012-01-01'"
      ]
     },
     "execution_count": 15,
     "metadata": {},
     "output_type": "execute_result"
    }
   ],
   "source": [
    "log((    \n",
    "    persons[\"CASE_DATE\"].min()\n",
    "), \"Earliest case date\")"
   ]
  },
  {
   "cell_type": "code",
   "execution_count": 16,
   "metadata": {},
   "outputs": [
    {
     "name": "stdout",
     "output_type": "stream",
     "text": [
      "Latest case date:\n"
     ]
    },
    {
     "data": {
      "text/plain": [
       "'2017-07-26'"
      ]
     },
     "execution_count": 16,
     "metadata": {},
     "output_type": "execute_result"
    }
   ],
   "source": [
    "log((    \n",
    "    persons[\"CASE_DATE\"].max()\n",
    "), \"Latest case date\")"
   ]
  },
  {
   "cell_type": "code",
   "execution_count": 17,
   "metadata": {},
   "outputs": [
    {
     "name": "stdout",
     "output_type": "stream",
     "text": [
      "Proportion of cases with a named suspect:\n"
     ]
    },
    {
     "data": {
      "text/plain": [
       "0.354"
      ]
     },
     "execution_count": 17,
     "metadata": {},
     "output_type": "execute_result"
    }
   ],
   "source": [
    "log(round((\n",
    "    persons\n",
    "    .loc[lambda df: df[\"DESCRIPTION\"] == \"SUSPECT\"]\n",
    "    .loc[lambda df: df[\"name_is_vague\"] == 0]\n",
    "    [\"CASE_NUMBER\"]\n",
    "    .nunique() \n",
    "    / \n",
    "    persons[\"CASE_NUMBER\"].nunique()\n",
    "), 3), \"Proportion of cases with a named suspect\")"
   ]
  },
  {
   "cell_type": "code",
   "execution_count": 18,
   "metadata": {},
   "outputs": [
    {
     "name": "stdout",
     "output_type": "stream",
     "text": [
      "Proportion of victims by victim type:\n"
     ]
    },
    {
     "data": {
      "text/plain": [
       "NON FATAL SHOOTING    0.69\n",
       "HOMICIDE SHOOTING     0.31\n",
       "Name: VICT_TYPE, dtype: float64"
      ]
     },
     "execution_count": 18,
     "metadata": {},
     "output_type": "execute_result"
    }
   ],
   "source": [
    "(\n",
    "    persons\n",
    "    .loc[lambda df: df[\"DESCRIPTION\"] == \"VICTIM\"]\n",
    "    [\"VICT_TYPE\"]\n",
    "    .value_counts(normalize = True)\n",
    "    .round(3)\n",
    "    .pipe(log, \"Proportion of victims by victim type\")\n",
    ")"
   ]
  },
  {
   "cell_type": "code",
   "execution_count": 19,
   "metadata": {},
   "outputs": [
    {
     "name": "stdout",
     "output_type": "stream",
     "text": [
      "Proportion of suspects by victim type:\n"
     ]
    },
    {
     "data": {
      "text/plain": [
       "NON FATAL SHOOTING               0.642\n",
       "HOMICIDE                         0.294\n",
       "HOMICIDE + NON FATAL SHOOTING    0.064\n",
       "Name: case_vict_type_generic, dtype: float64"
      ]
     },
     "execution_count": 19,
     "metadata": {},
     "output_type": "execute_result"
    }
   ],
   "source": [
    "(\n",
    "    persons\n",
    "    .loc[lambda df: df[\"DESCRIPTION\"] == \"SUSPECT\"]\n",
    "    [\"case_vict_type_generic\"]\n",
    "    .value_counts(normalize = True)\n",
    "    .round(3)\n",
    "    .pipe(log, \"Proportion of suspects by victim type\")\n",
    ")"
   ]
  },
  {
   "cell_type": "code",
   "execution_count": 20,
   "metadata": {},
   "outputs": [
    {
     "name": "stdout",
     "output_type": "stream",
     "text": [
      "Proportion of victims by race:\n"
     ]
    },
    {
     "data": {
      "text/plain": [
       "BLACK       0.946\n",
       "WHITE       0.037\n",
       "HISPANIC    0.010\n",
       "OTHER       0.004\n",
       "UNKNOWN     0.001\n",
       "ASIAN       0.001\n",
       "Name: RACE, dtype: float64"
      ]
     },
     "execution_count": 20,
     "metadata": {},
     "output_type": "execute_result"
    }
   ],
   "source": [
    "(\n",
    "    persons\n",
    "    .loc[lambda df: df[\"DESCRIPTION\"] == \"VICTIM\"]\n",
    "    [\"RACE\"]\n",
    "    .value_counts(normalize = True)\n",
    "    .round(3)\n",
    "    .pipe(log, \"Proportion of victims by race\")\n",
    ")"
   ]
  },
  {
   "cell_type": "markdown",
   "metadata": {},
   "source": [
    "## Connect cases via shared victims/suspects"
   ]
  },
  {
   "cell_type": "code",
   "execution_count": 21,
   "metadata": {},
   "outputs": [
    {
     "data": {
      "text/html": [
       "<div>\n",
       "<style scoped>\n",
       "    .dataframe tbody tr th:only-of-type {\n",
       "        vertical-align: middle;\n",
       "    }\n",
       "\n",
       "    .dataframe tbody tr th {\n",
       "        vertical-align: top;\n",
       "    }\n",
       "\n",
       "    .dataframe thead th {\n",
       "        text-align: right;\n",
       "    }\n",
       "</style>\n",
       "<table border=\"1\" class=\"dataframe\">\n",
       "  <thead>\n",
       "    <tr style=\"text-align: right;\">\n",
       "      <th></th>\n",
       "      <th>CASE_NUMBER</th>\n",
       "      <th>CASE_DATE</th>\n",
       "      <th>DESCRIPTION</th>\n",
       "      <th>VICT_TYPE</th>\n",
       "      <th>person_uid</th>\n",
       "    </tr>\n",
       "  </thead>\n",
       "  <tbody>\n",
       "    <tr>\n",
       "      <th>0</th>\n",
       "      <td>12V0001</td>\n",
       "      <td>2012-01-01</td>\n",
       "      <td>VICTIM</td>\n",
       "      <td>NON FATAL SHOOTING</td>\n",
       "      <td>41b10e399d</td>\n",
       "    </tr>\n",
       "    <tr>\n",
       "      <th>1</th>\n",
       "      <td>12H0001</td>\n",
       "      <td>2012-01-03</td>\n",
       "      <td>VICTIM</td>\n",
       "      <td>HOMICIDE SHOOTING</td>\n",
       "      <td>031694ec35</td>\n",
       "    </tr>\n",
       "    <tr>\n",
       "      <th>2</th>\n",
       "      <td>12V0002</td>\n",
       "      <td>2012-01-03</td>\n",
       "      <td>SUSPECT</td>\n",
       "      <td>NaN</td>\n",
       "      <td>c879b0a6cf</td>\n",
       "    </tr>\n",
       "    <tr>\n",
       "      <th>3</th>\n",
       "      <td>12V0002</td>\n",
       "      <td>2012-01-03</td>\n",
       "      <td>SUSPECT</td>\n",
       "      <td>NaN</td>\n",
       "      <td>eaa8feed13</td>\n",
       "    </tr>\n",
       "    <tr>\n",
       "      <th>4</th>\n",
       "      <td>12V0002</td>\n",
       "      <td>2012-01-03</td>\n",
       "      <td>VICTIM</td>\n",
       "      <td>NON FATAL SHOOTING</td>\n",
       "      <td>92f7c6f0fc</td>\n",
       "    </tr>\n",
       "  </tbody>\n",
       "</table>\n",
       "</div>"
      ],
      "text/plain": [
       "  CASE_NUMBER   CASE_DATE DESCRIPTION           VICT_TYPE  person_uid\n",
       "0     12V0001  2012-01-01      VICTIM  NON FATAL SHOOTING  41b10e399d\n",
       "1     12H0001  2012-01-03      VICTIM   HOMICIDE SHOOTING  031694ec35\n",
       "2     12V0002  2012-01-03     SUSPECT                 NaN  c879b0a6cf\n",
       "3     12V0002  2012-01-03     SUSPECT                 NaN  eaa8feed13\n",
       "4     12V0002  2012-01-03      VICTIM  NON FATAL SHOOTING  92f7c6f0fc"
      ]
     },
     "execution_count": 21,
     "metadata": {},
     "output_type": "execute_result"
    }
   ],
   "source": [
    "# Here, we remove \"persons of interest\", and also deduplicate the handful\n",
    "# of suspects who are listed more than once for the same case\n",
    "\n",
    "person_victims_and_suspects = (   \n",
    "    persons\n",
    "    .loc[lambda df: df[\"DESCRIPTION\"] != \"PERSON OF INTEREST\"]\n",
    "    [[\n",
    "        \"CASE_NUMBER\",\n",
    "        \"CASE_DATE\",\n",
    "        \"DESCRIPTION\",\n",
    "        \"VICT_TYPE\",\n",
    "        \"person_uid\"\n",
    "    ]]\n",
    "    .drop_duplicates()\n",
    ")\n",
    "\n",
    "person_victims_and_suspects.head()"
   ]
  },
  {
   "cell_type": "markdown",
   "metadata": {},
   "source": [
    "By joining the persons data to itself, we can identify instances where two cases share a common person — someone who is either a suspect or victim in both cases (although not necessarily the same role in both):"
   ]
  },
  {
   "cell_type": "code",
   "execution_count": 22,
   "metadata": {},
   "outputs": [
    {
     "data": {
      "text/html": [
       "<div>\n",
       "<style scoped>\n",
       "    .dataframe tbody tr th:only-of-type {\n",
       "        vertical-align: middle;\n",
       "    }\n",
       "\n",
       "    .dataframe tbody tr th {\n",
       "        vertical-align: top;\n",
       "    }\n",
       "\n",
       "    .dataframe thead th {\n",
       "        text-align: right;\n",
       "    }\n",
       "</style>\n",
       "<table border=\"1\" class=\"dataframe\">\n",
       "  <thead>\n",
       "    <tr style=\"text-align: right;\">\n",
       "      <th></th>\n",
       "      <th>CASE_NUMBER_x</th>\n",
       "      <th>DESCRIPTION_x</th>\n",
       "      <th>person_uid</th>\n",
       "      <th>CASE_NUMBER_y</th>\n",
       "      <th>DESCRIPTION_y</th>\n",
       "    </tr>\n",
       "  </thead>\n",
       "  <tbody>\n",
       "    <tr>\n",
       "      <th>1</th>\n",
       "      <td>12V0001</td>\n",
       "      <td>VICTIM</td>\n",
       "      <td>41b10e399d</td>\n",
       "      <td>15H0158</td>\n",
       "      <td>SUSPECT</td>\n",
       "    </tr>\n",
       "    <tr>\n",
       "      <th>10</th>\n",
       "      <td>12V0004</td>\n",
       "      <td>SUSPECT</td>\n",
       "      <td>bcccebaf16</td>\n",
       "      <td>15V0212</td>\n",
       "      <td>SUSPECT</td>\n",
       "    </tr>\n",
       "    <tr>\n",
       "      <th>22</th>\n",
       "      <td>12V0009</td>\n",
       "      <td>SUSPECT</td>\n",
       "      <td>c47907e1d1</td>\n",
       "      <td>12V0021</td>\n",
       "      <td>SUSPECT</td>\n",
       "    </tr>\n",
       "    <tr>\n",
       "      <th>24</th>\n",
       "      <td>12V0009</td>\n",
       "      <td>VICTIM</td>\n",
       "      <td>3b75669caf</td>\n",
       "      <td>15V0439</td>\n",
       "      <td>VICTIM</td>\n",
       "    </tr>\n",
       "    <tr>\n",
       "      <th>40</th>\n",
       "      <td>12V0017</td>\n",
       "      <td>VICTIM</td>\n",
       "      <td>5105212289</td>\n",
       "      <td>12V0206</td>\n",
       "      <td>VICTIM</td>\n",
       "    </tr>\n",
       "  </tbody>\n",
       "</table>\n",
       "</div>"
      ],
      "text/plain": [
       "   CASE_NUMBER_x DESCRIPTION_x  person_uid CASE_NUMBER_y DESCRIPTION_y\n",
       "1        12V0001        VICTIM  41b10e399d       15H0158       SUSPECT\n",
       "10       12V0004       SUSPECT  bcccebaf16       15V0212       SUSPECT\n",
       "22       12V0009       SUSPECT  c47907e1d1       12V0021       SUSPECT\n",
       "24       12V0009        VICTIM  3b75669caf       15V0439        VICTIM\n",
       "40       12V0017        VICTIM  5105212289       12V0206        VICTIM"
      ]
     },
     "execution_count": 22,
     "metadata": {},
     "output_type": "execute_result"
    }
   ],
   "source": [
    "case_connections = (\n",
    "    person_victims_and_suspects\n",
    "    .drop(columns = [ \"VICT_TYPE\", \"CASE_DATE\" ])\n",
    "    .pipe(lambda df: (\n",
    "        df\n",
    "        .merge(\n",
    "            df,\n",
    "            how = \"left\",\n",
    "            on = [ \"person_uid\" ]\n",
    "        )\n",
    "    ))\n",
    "    # Here, we limit the results to those where the matching case\n",
    "    # is higher in the sort-order than the starting case,\n",
    "    # to remove duplicates and self-matches\n",
    "    .loc[lambda df: df[\"CASE_NUMBER_x\"] < df[\"CASE_NUMBER_y\"]]\n",
    ")\n",
    "\n",
    "case_connections.head()"
   ]
  },
  {
   "cell_type": "code",
   "execution_count": 23,
   "metadata": {},
   "outputs": [
    {
     "name": "stdout",
     "output_type": "stream",
     "text": [
      "Number of people connected to multiple cases:\n"
     ]
    },
    {
     "data": {
      "text/plain": [
       "434"
      ]
     },
     "execution_count": 23,
     "metadata": {},
     "output_type": "execute_result"
    }
   ],
   "source": [
    "log((    \n",
    "    case_connections\n",
    "    [\"person_uid\"]\n",
    "    .nunique()\n",
    "), \"Number of people connected to multiple cases\")"
   ]
  },
  {
   "cell_type": "code",
   "execution_count": 24,
   "metadata": {
    "scrolled": true
   },
   "outputs": [
    {
     "name": "stdout",
     "output_type": "stream",
     "text": [
      "Number of shootings (unique_case_numbers) connected by a common victim/suspect:\n"
     ]
    },
    {
     "data": {
      "text/plain": [
       "CASE_NUMBER    826\n",
       "dtype: int64"
      ]
     },
     "execution_count": 24,
     "metadata": {},
     "output_type": "execute_result"
    }
   ],
   "source": [
    "(\n",
    "    pd.concat([\n",
    "        case_connections[\"CASE_NUMBER_x\"],\n",
    "        case_connections[\"CASE_NUMBER_y\"],\n",
    "    ])\n",
    "    .to_frame(\"CASE_NUMBER\")\n",
    "    .nunique()\n",
    "    .pipe(log, \"Number of shootings (unique_case_numbers) connected by a common victim/suspect\")\n",
    ")"
   ]
  },
  {
   "cell_type": "code",
   "execution_count": 25,
   "metadata": {},
   "outputs": [
    {
     "data": {
      "text/html": [
       "<div>\n",
       "<style scoped>\n",
       "    .dataframe tbody tr th:only-of-type {\n",
       "        vertical-align: middle;\n",
       "    }\n",
       "\n",
       "    .dataframe tbody tr th {\n",
       "        vertical-align: top;\n",
       "    }\n",
       "\n",
       "    .dataframe thead th {\n",
       "        text-align: right;\n",
       "    }\n",
       "</style>\n",
       "<table border=\"1\" class=\"dataframe\">\n",
       "  <thead>\n",
       "    <tr style=\"text-align: right;\">\n",
       "      <th></th>\n",
       "      <th>CASE_NUMBER_x</th>\n",
       "      <th>CASE_NUMBER_y</th>\n",
       "    </tr>\n",
       "  </thead>\n",
       "  <tbody>\n",
       "    <tr>\n",
       "      <th>1</th>\n",
       "      <td>12V0001</td>\n",
       "      <td>15H0158</td>\n",
       "    </tr>\n",
       "    <tr>\n",
       "      <th>10</th>\n",
       "      <td>12V0004</td>\n",
       "      <td>15V0212</td>\n",
       "    </tr>\n",
       "    <tr>\n",
       "      <th>22</th>\n",
       "      <td>12V0009</td>\n",
       "      <td>12V0021</td>\n",
       "    </tr>\n",
       "    <tr>\n",
       "      <th>24</th>\n",
       "      <td>12V0009</td>\n",
       "      <td>15V0439</td>\n",
       "    </tr>\n",
       "    <tr>\n",
       "      <th>40</th>\n",
       "      <td>12V0017</td>\n",
       "      <td>12V0206</td>\n",
       "    </tr>\n",
       "  </tbody>\n",
       "</table>\n",
       "</div>"
      ],
      "text/plain": [
       "   CASE_NUMBER_x CASE_NUMBER_y\n",
       "1        12V0001       15H0158\n",
       "10       12V0004       15V0212\n",
       "22       12V0009       12V0021\n",
       "24       12V0009       15V0439\n",
       "40       12V0017       12V0206"
      ]
     },
     "execution_count": 25,
     "metadata": {},
     "output_type": "execute_result"
    }
   ],
   "source": [
    "connected_cases = (\n",
    "    case_connections\n",
    "    [[\n",
    "        \"CASE_NUMBER_x\",\n",
    "        \"CASE_NUMBER_y\"\n",
    "    ]]\n",
    "    .drop_duplicates()\n",
    ")\n",
    "\n",
    "connected_cases.head()"
   ]
  },
  {
   "cell_type": "markdown",
   "metadata": {},
   "source": [
    "Here we create a network graph (via `networkx`) to identify groups of cases connected to one another — directly or indirectly:"
   ]
  },
  {
   "cell_type": "code",
   "execution_count": 26,
   "metadata": {},
   "outputs": [],
   "source": [
    "graph = nx.Graph()\n",
    "\n",
    "graph.add_edges_from(\n",
    "    connected_cases\n",
    "    [[\n",
    "        \"CASE_NUMBER_x\",\n",
    "        \"CASE_NUMBER_y\"\n",
    "    ]]\n",
    "    .apply(tuple, axis = 1)\n",
    "    .values\n",
    ")"
   ]
  },
  {
   "cell_type": "code",
   "execution_count": 27,
   "metadata": {},
   "outputs": [
    {
     "data": {
      "text/html": [
       "<div>\n",
       "<style scoped>\n",
       "    .dataframe tbody tr th:only-of-type {\n",
       "        vertical-align: middle;\n",
       "    }\n",
       "\n",
       "    .dataframe tbody tr th {\n",
       "        vertical-align: top;\n",
       "    }\n",
       "\n",
       "    .dataframe thead th {\n",
       "        text-align: right;\n",
       "    }\n",
       "</style>\n",
       "<table border=\"1\" class=\"dataframe\">\n",
       "  <thead>\n",
       "    <tr style=\"text-align: right;\">\n",
       "      <th></th>\n",
       "      <th>CASE_NUMBER</th>\n",
       "      <th>group</th>\n",
       "    </tr>\n",
       "  </thead>\n",
       "  <tbody>\n",
       "    <tr>\n",
       "      <th>0</th>\n",
       "      <td>12V0001</td>\n",
       "      <td>0</td>\n",
       "    </tr>\n",
       "    <tr>\n",
       "      <th>1</th>\n",
       "      <td>15H0158</td>\n",
       "      <td>0</td>\n",
       "    </tr>\n",
       "    <tr>\n",
       "      <th>0</th>\n",
       "      <td>15V0212</td>\n",
       "      <td>1</td>\n",
       "    </tr>\n",
       "    <tr>\n",
       "      <th>1</th>\n",
       "      <td>12V0004</td>\n",
       "      <td>1</td>\n",
       "    </tr>\n",
       "    <tr>\n",
       "      <th>0</th>\n",
       "      <td>16H0293</td>\n",
       "      <td>2</td>\n",
       "    </tr>\n",
       "  </tbody>\n",
       "</table>\n",
       "</div>"
      ],
      "text/plain": [
       "  CASE_NUMBER  group\n",
       "0     12V0001      0\n",
       "1     15H0158      0\n",
       "0     15V0212      1\n",
       "1     12V0004      1\n",
       "0     16H0293      2"
      ]
     },
     "execution_count": 27,
     "metadata": {},
     "output_type": "execute_result"
    }
   ],
   "source": [
    "groups = pd.concat([\n",
    "    pd.DataFrame([ { \"CASE_NUMBER\": x, \"group\": i }  for x in subset ])\n",
    "    for i, subset in enumerate(nx.connected_components(graph)) \n",
    "])\n",
    "\n",
    "groups.head()"
   ]
  },
  {
   "cell_type": "code",
   "execution_count": 28,
   "metadata": {},
   "outputs": [
    {
     "name": "stdout",
     "output_type": "stream",
     "text": [
      "Number of groups of connected shootings:\n"
     ]
    },
    {
     "data": {
      "text/plain": [
       "333"
      ]
     },
     "execution_count": 28,
     "metadata": {},
     "output_type": "execute_result"
    }
   ],
   "source": [
    "log((\n",
    "    groups[\"group\"].nunique()\n",
    "), \"Number of groups of connected shootings\")"
   ]
  },
  {
   "cell_type": "markdown",
   "metadata": {},
   "source": [
    "The table below counts the proportion of grouped cases of each size — 76% of groups are just two cases; 14% are groups of three cases, 5% are groups of four cases, et cetera:"
   ]
  },
  {
   "cell_type": "code",
   "execution_count": 29,
   "metadata": {},
   "outputs": [
    {
     "data": {
      "text/html": [
       "<div>\n",
       "<style scoped>\n",
       "    .dataframe tbody tr th:only-of-type {\n",
       "        vertical-align: middle;\n",
       "    }\n",
       "\n",
       "    .dataframe tbody tr th {\n",
       "        vertical-align: top;\n",
       "    }\n",
       "\n",
       "    .dataframe thead th {\n",
       "        text-align: right;\n",
       "    }\n",
       "</style>\n",
       "<table border=\"1\" class=\"dataframe\">\n",
       "  <thead>\n",
       "    <tr style=\"text-align: right;\">\n",
       "      <th></th>\n",
       "      <th>proportion</th>\n",
       "    </tr>\n",
       "  </thead>\n",
       "  <tbody>\n",
       "    <tr>\n",
       "      <th>2</th>\n",
       "      <td>0.759760</td>\n",
       "    </tr>\n",
       "    <tr>\n",
       "      <th>3</th>\n",
       "      <td>0.141141</td>\n",
       "    </tr>\n",
       "    <tr>\n",
       "      <th>4</th>\n",
       "      <td>0.054054</td>\n",
       "    </tr>\n",
       "    <tr>\n",
       "      <th>5</th>\n",
       "      <td>0.021021</td>\n",
       "    </tr>\n",
       "    <tr>\n",
       "      <th>6</th>\n",
       "      <td>0.006006</td>\n",
       "    </tr>\n",
       "    <tr>\n",
       "      <th>7</th>\n",
       "      <td>0.006006</td>\n",
       "    </tr>\n",
       "    <tr>\n",
       "      <th>8</th>\n",
       "      <td>0.006006</td>\n",
       "    </tr>\n",
       "    <tr>\n",
       "      <th>13</th>\n",
       "      <td>0.003003</td>\n",
       "    </tr>\n",
       "    <tr>\n",
       "      <th>17</th>\n",
       "      <td>0.003003</td>\n",
       "    </tr>\n",
       "  </tbody>\n",
       "</table>\n",
       "</div>"
      ],
      "text/plain": [
       "    proportion\n",
       "2     0.759760\n",
       "3     0.141141\n",
       "4     0.054054\n",
       "5     0.021021\n",
       "6     0.006006\n",
       "7     0.006006\n",
       "8     0.006006\n",
       "13    0.003003\n",
       "17    0.003003"
      ]
     },
     "execution_count": 29,
     "metadata": {},
     "output_type": "execute_result"
    }
   ],
   "source": [
    "(\n",
    "    groups\n",
    "    [\"group\"]\n",
    "    .value_counts()\n",
    "    .value_counts(normalize = True)\n",
    "    .sort_index()\n",
    "    .to_frame(\"proportion\")\n",
    ")"
   ]
  },
  {
   "cell_type": "markdown",
   "metadata": {},
   "source": [
    "## Calculate statistics about these groups"
   ]
  },
  {
   "cell_type": "markdown",
   "metadata": {},
   "source": [
    "Most of the groups involve both a fatal and non-fatal shooting:"
   ]
  },
  {
   "cell_type": "code",
   "execution_count": 30,
   "metadata": {},
   "outputs": [
    {
     "name": "stdout",
     "output_type": "stream",
     "text": [
      "Connected-shooting groups, by distinct victim types:\n"
     ]
    },
    {
     "data": {
      "text/plain": [
       "(HOMICIDE SHOOTING, NON FATAL SHOOTING)    209\n",
       "(NON FATAL SHOOTING,)                      101\n",
       "(HOMICIDE SHOOTING,)                        23\n",
       "Name: VICT_TYPE, dtype: int64"
      ]
     },
     "execution_count": 30,
     "metadata": {},
     "output_type": "execute_result"
    }
   ],
   "source": [
    "(\n",
    "    person_victims_and_suspects\n",
    "    .loc[lambda df: df[\"DESCRIPTION\"] == \"VICTIM\"]\n",
    "    .merge(\n",
    "        groups,\n",
    "        on = \"CASE_NUMBER\",\n",
    "        how = \"left\",\n",
    "        validate = \"m:1\"\n",
    "    )\n",
    "    .dropna(subset = [ \"group\" ])\n",
    "    .groupby([\n",
    "        \"group\"\n",
    "    ])\n",
    "    [\"VICT_TYPE\"]\n",
    "    .unique()\n",
    "    .apply(sorted)\n",
    "    .apply(tuple)\n",
    "    .value_counts()\n",
    "    .pipe(log, \"Connected-shooting groups, by distinct victim types\")\n",
    ")"
   ]
  },
  {
   "cell_type": "markdown",
   "metadata": {},
   "source": [
    "If you count only the highest-level offense for each case — i.e., only homicide for cases that involved both fatal and non-fatal shootings — the numbers are similar, but slightly different:"
   ]
  },
  {
   "cell_type": "code",
   "execution_count": 31,
   "metadata": {},
   "outputs": [
    {
     "data": {
      "text/html": [
       "<div>\n",
       "<style scoped>\n",
       "    .dataframe tbody tr th:only-of-type {\n",
       "        vertical-align: middle;\n",
       "    }\n",
       "\n",
       "    .dataframe tbody tr th {\n",
       "        vertical-align: top;\n",
       "    }\n",
       "\n",
       "    .dataframe thead th {\n",
       "        text-align: right;\n",
       "    }\n",
       "</style>\n",
       "<table border=\"1\" class=\"dataframe\">\n",
       "  <thead>\n",
       "    <tr style=\"text-align: right;\">\n",
       "      <th></th>\n",
       "      <th>CASE_NUMBER</th>\n",
       "      <th>VICT_TYPE</th>\n",
       "    </tr>\n",
       "  </thead>\n",
       "  <tbody>\n",
       "    <tr>\n",
       "      <th>0</th>\n",
       "      <td>12H0001</td>\n",
       "      <td>HOMICIDE SHOOTING</td>\n",
       "    </tr>\n",
       "    <tr>\n",
       "      <th>1</th>\n",
       "      <td>12H0004</td>\n",
       "      <td>HOMICIDE SHOOTING</td>\n",
       "    </tr>\n",
       "    <tr>\n",
       "      <th>2</th>\n",
       "      <td>12H0005</td>\n",
       "      <td>HOMICIDE SHOOTING</td>\n",
       "    </tr>\n",
       "    <tr>\n",
       "      <th>3</th>\n",
       "      <td>12H0006</td>\n",
       "      <td>HOMICIDE SHOOTING</td>\n",
       "    </tr>\n",
       "    <tr>\n",
       "      <th>4</th>\n",
       "      <td>12H0007</td>\n",
       "      <td>HOMICIDE SHOOTING</td>\n",
       "    </tr>\n",
       "  </tbody>\n",
       "</table>\n",
       "</div>"
      ],
      "text/plain": [
       "  CASE_NUMBER          VICT_TYPE\n",
       "0     12H0001  HOMICIDE SHOOTING\n",
       "1     12H0004  HOMICIDE SHOOTING\n",
       "2     12H0005  HOMICIDE SHOOTING\n",
       "3     12H0006  HOMICIDE SHOOTING\n",
       "4     12H0007  HOMICIDE SHOOTING"
      ]
     },
     "execution_count": 31,
     "metadata": {},
     "output_type": "execute_result"
    }
   ],
   "source": [
    "highest_level_victim_by_case = (\n",
    "    persons\n",
    "    .dropna(subset = [ \"VICT_TYPE\" ])\n",
    "    .groupby(\"CASE_NUMBER\")\n",
    "    [\"VICT_TYPE\"]\n",
    "    .min() # Here, `min` selects \"HOMICIDE SHOOTING\" over \"NON FATAL SHOOTING\"\n",
    "    .reset_index()\n",
    ")\n",
    "\n",
    "highest_level_victim_by_case.head()"
   ]
  },
  {
   "cell_type": "code",
   "execution_count": 32,
   "metadata": {},
   "outputs": [
    {
     "data": {
      "text/html": [
       "<div>\n",
       "<style scoped>\n",
       "    .dataframe tbody tr th:only-of-type {\n",
       "        vertical-align: middle;\n",
       "    }\n",
       "\n",
       "    .dataframe tbody tr th {\n",
       "        vertical-align: top;\n",
       "    }\n",
       "\n",
       "    .dataframe thead th {\n",
       "        text-align: right;\n",
       "    }\n",
       "</style>\n",
       "<table border=\"1\" class=\"dataframe\">\n",
       "  <thead>\n",
       "    <tr style=\"text-align: right;\">\n",
       "      <th></th>\n",
       "      <th>VICT_TYPE_highest</th>\n",
       "      <th>VICT_TYPE_individual</th>\n",
       "      <th>count</th>\n",
       "    </tr>\n",
       "  </thead>\n",
       "  <tbody>\n",
       "    <tr>\n",
       "      <th>0</th>\n",
       "      <td>HOMICIDE SHOOTING</td>\n",
       "      <td>HOMICIDE SHOOTING</td>\n",
       "      <td>1271</td>\n",
       "    </tr>\n",
       "    <tr>\n",
       "      <th>1</th>\n",
       "      <td>HOMICIDE SHOOTING</td>\n",
       "      <td>NON FATAL SHOOTING</td>\n",
       "      <td>226</td>\n",
       "    </tr>\n",
       "    <tr>\n",
       "      <th>2</th>\n",
       "      <td>NON FATAL SHOOTING</td>\n",
       "      <td>NON FATAL SHOOTING</td>\n",
       "      <td>2600</td>\n",
       "    </tr>\n",
       "  </tbody>\n",
       "</table>\n",
       "</div>"
      ],
      "text/plain": [
       "    VICT_TYPE_highest VICT_TYPE_individual  count\n",
       "0   HOMICIDE SHOOTING    HOMICIDE SHOOTING   1271\n",
       "1   HOMICIDE SHOOTING   NON FATAL SHOOTING    226\n",
       "2  NON FATAL SHOOTING   NON FATAL SHOOTING   2600"
      ]
     },
     "execution_count": 32,
     "metadata": {},
     "output_type": "execute_result"
    }
   ],
   "source": [
    "(\n",
    "    highest_level_victim_by_case\n",
    "    .merge(\n",
    "        person_victims_and_suspects\n",
    "        .loc[lambda df: df[\"DESCRIPTION\"] == \"VICTIM\"],\n",
    "        how = \"left\",\n",
    "        on = \"CASE_NUMBER\",\n",
    "        suffixes = [ \"_highest\", \"_individual\" ]\n",
    "    )\n",
    "    .groupby([\n",
    "        \"VICT_TYPE_highest\",\n",
    "        \"VICT_TYPE_individual\"\n",
    "    ])\n",
    "    .size()\n",
    "    .to_frame(\"count\")\n",
    "    .reset_index()\n",
    ")"
   ]
  },
  {
   "cell_type": "code",
   "execution_count": 33,
   "metadata": {},
   "outputs": [
    {
     "name": "stdout",
     "output_type": "stream",
     "text": [
      "Connected-shooting groups, by distinct *highest-level* victim types:\n"
     ]
    },
    {
     "data": {
      "text/plain": [
       "(HOMICIDE SHOOTING, NON FATAL SHOOTING)    200\n",
       "(NON FATAL SHOOTING,)                      101\n",
       "(HOMICIDE SHOOTING,)                        32\n",
       "Name: VICT_TYPE, dtype: int64"
      ]
     },
     "execution_count": 33,
     "metadata": {},
     "output_type": "execute_result"
    }
   ],
   "source": [
    "(\n",
    "    groups\n",
    "    .merge(\n",
    "        highest_level_victim_by_case,\n",
    "        how = \"left\",\n",
    "        on = \"CASE_NUMBER\",\n",
    "        validate = \"1:1\",\n",
    "    )\n",
    "    .groupby(\"group\")\n",
    "    [\"VICT_TYPE\"]\n",
    "    .unique()\n",
    "    .apply(sorted)\n",
    "    .apply(tuple)\n",
    "    .value_counts()\n",
    "    .pipe(log, \"Connected-shooting groups, by distinct *highest-level* victim types\")    \n",
    ")"
   ]
  },
  {
   "cell_type": "markdown",
   "metadata": {},
   "source": [
    "## Calculate statistics about victims and suspects named in multiple cases"
   ]
  },
  {
   "cell_type": "markdown",
   "metadata": {},
   "source": [
    "Here, we count the number of distinct cases in which someone was listed as a victim, and the same for as a suspect:"
   ]
  },
  {
   "cell_type": "code",
   "execution_count": 34,
   "metadata": {},
   "outputs": [
    {
     "data": {
      "text/html": [
       "<div>\n",
       "<style scoped>\n",
       "    .dataframe tbody tr th:only-of-type {\n",
       "        vertical-align: middle;\n",
       "    }\n",
       "\n",
       "    .dataframe tbody tr th {\n",
       "        vertical-align: top;\n",
       "    }\n",
       "\n",
       "    .dataframe thead th {\n",
       "        text-align: right;\n",
       "    }\n",
       "</style>\n",
       "<table border=\"1\" class=\"dataframe\">\n",
       "  <thead>\n",
       "    <tr style=\"text-align: right;\">\n",
       "      <th>DESCRIPTION</th>\n",
       "      <th>SUSPECT</th>\n",
       "      <th>VICTIM</th>\n",
       "    </tr>\n",
       "    <tr>\n",
       "      <th>person_uid</th>\n",
       "      <th></th>\n",
       "      <th></th>\n",
       "    </tr>\n",
       "  </thead>\n",
       "  <tbody>\n",
       "    <tr>\n",
       "      <th>001868b860</th>\n",
       "      <td>1</td>\n",
       "      <td>5</td>\n",
       "    </tr>\n",
       "    <tr>\n",
       "      <th>003d0b0827</th>\n",
       "      <td>1</td>\n",
       "      <td>1</td>\n",
       "    </tr>\n",
       "    <tr>\n",
       "      <th>00832f78c1</th>\n",
       "      <td>0</td>\n",
       "      <td>2</td>\n",
       "    </tr>\n",
       "    <tr>\n",
       "      <th>008d4ad475</th>\n",
       "      <td>2</td>\n",
       "      <td>0</td>\n",
       "    </tr>\n",
       "    <tr>\n",
       "      <th>00b831b181</th>\n",
       "      <td>1</td>\n",
       "      <td>1</td>\n",
       "    </tr>\n",
       "  </tbody>\n",
       "</table>\n",
       "</div>"
      ],
      "text/plain": [
       "DESCRIPTION  SUSPECT  VICTIM\n",
       "person_uid                  \n",
       "001868b860         1       5\n",
       "003d0b0827         1       1\n",
       "00832f78c1         0       2\n",
       "008d4ad475         2       0\n",
       "00b831b181         1       1"
      ]
     },
     "execution_count": 34,
     "metadata": {},
     "output_type": "execute_result"
    }
   ],
   "source": [
    "connected_person_counts = (\n",
    "    person_victims_and_suspects\n",
    "    \n",
    "    # Select only people who serve as a connection between cases\n",
    "    .loc[lambda df: df[\"person_uid\"].isin(\n",
    "        case_connections[\"person_uid\"]\n",
    "    )]\n",
    "    [[\n",
    "        \"person_uid\",\n",
    "        \"CASE_NUMBER\",\n",
    "        \"DESCRIPTION\"\n",
    "    ]]\n",
    "    .groupby([ \"person_uid\" ])\n",
    "    [\"DESCRIPTION\"]\n",
    "    .value_counts()\n",
    "    .unstack()\n",
    "    .fillna(0)\n",
    "    .astype(int)\n",
    ")\n",
    "\n",
    "connected_person_counts.head()"
   ]
  },
  {
   "cell_type": "code",
   "execution_count": 35,
   "metadata": {},
   "outputs": [
    {
     "name": "stdout",
     "output_type": "stream",
     "text": [
      "People listed as both victims and suspects:\n"
     ]
    },
    {
     "data": {
      "text/plain": [
       "214"
      ]
     },
     "execution_count": 35,
     "metadata": {},
     "output_type": "execute_result"
    }
   ],
   "source": [
    "log((\n",
    "    connected_person_counts\n",
    "    .loc[lambda df: df[\"SUSPECT\"] > 0]\n",
    "    .loc[lambda df: df[\"VICTIM\"] > 0]\n",
    "    .pipe(len)\n",
    "), \"People listed as both victims and suspects\")"
   ]
  },
  {
   "cell_type": "markdown",
   "metadata": {},
   "source": [
    "### Victims"
   ]
  },
  {
   "cell_type": "code",
   "execution_count": 36,
   "metadata": {
    "scrolled": true
   },
   "outputs": [
    {
     "name": "stdout",
     "output_type": "stream",
     "text": [
      "People listed as victims in multiple cases:\n"
     ]
    },
    {
     "data": {
      "text/plain": [
       "171"
      ]
     },
     "execution_count": 36,
     "metadata": {},
     "output_type": "execute_result"
    }
   ],
   "source": [
    "log((\n",
    "    connected_person_counts\n",
    "    .loc[lambda df: df[\"VICTIM\"] > 1]\n",
    "    .pipe(len)\n",
    "), \"People listed as victims in multiple cases\")"
   ]
  },
  {
   "cell_type": "markdown",
   "metadata": {},
   "source": [
    "For people listed as victims in multiple cases, for how many was their final recorded case a homicide vs. non-fatal shooting?:"
   ]
  },
  {
   "cell_type": "code",
   "execution_count": 37,
   "metadata": {},
   "outputs": [
    {
     "name": "stdout",
     "output_type": "stream",
     "text": [
      "Final victim type for persons shot in multiple incidents:\n"
     ]
    },
    {
     "data": {
      "text/plain": [
       "NON FATAL SHOOTING    92\n",
       "HOMICIDE SHOOTING     79\n",
       "Name: VICT_TYPE, dtype: int64"
      ]
     },
     "execution_count": 37,
     "metadata": {},
     "output_type": "execute_result"
    }
   ],
   "source": [
    "(\n",
    "    person_victims_and_suspects\n",
    "    .loc[lambda df: df[\"DESCRIPTION\"] == \"VICTIM\"]\n",
    "    .loc[lambda df: df[\"person_uid\"].isin(\n",
    "        connected_person_counts\n",
    "        .loc[lambda df: df[\"VICTIM\"] > 1]\n",
    "        .index\n",
    "    )]\n",
    "    .sort_values(\"CASE_DATE\")\n",
    "    .groupby(\"person_uid\")\n",
    "    [\"VICT_TYPE\"]\n",
    "    .last()\n",
    "    .value_counts()\n",
    "    .pipe(log, \"Final victim type for persons shot in multiple incidents\")\n",
    ")"
   ]
  },
  {
   "cell_type": "markdown",
   "metadata": {},
   "source": [
    "As a sanity-check, the *initial* case types for these victims should all be non-fatal — and they are:"
   ]
  },
  {
   "cell_type": "code",
   "execution_count": 38,
   "metadata": {},
   "outputs": [
    {
     "name": "stdout",
     "output_type": "stream",
     "text": [
      "Initial victim type for persons shot in multiple incidents:\n"
     ]
    },
    {
     "data": {
      "text/plain": [
       "NON FATAL SHOOTING    171\n",
       "Name: VICT_TYPE, dtype: int64"
      ]
     },
     "execution_count": 38,
     "metadata": {},
     "output_type": "execute_result"
    }
   ],
   "source": [
    "# Same code as above, but replacing `.last()` with `.first()`:\n",
    "(\n",
    "    person_victims_and_suspects\n",
    "    .loc[lambda df: df[\"DESCRIPTION\"] == \"VICTIM\"]\n",
    "    .loc[lambda df: df[\"person_uid\"].isin(\n",
    "        connected_person_counts\n",
    "        .loc[lambda df: df[\"VICTIM\"] > 1]\n",
    "        .index\n",
    "    )]\n",
    "    .sort_values(\"CASE_DATE\")\n",
    "    .groupby(\"person_uid\")\n",
    "    [\"VICT_TYPE\"]\n",
    "    .first()\n",
    "    .value_counts()\n",
    "    .pipe(log, \"Initial victim type for persons shot in multiple incidents\")\n",
    ")"
   ]
  },
  {
   "cell_type": "markdown",
   "metadata": {},
   "source": [
    "### Suspects"
   ]
  },
  {
   "cell_type": "code",
   "execution_count": 39,
   "metadata": {},
   "outputs": [
    {
     "name": "stdout",
     "output_type": "stream",
     "text": [
      "People listed as suspects in multiple cases:\n"
     ]
    },
    {
     "data": {
      "text/plain": [
       "87"
      ]
     },
     "execution_count": 39,
     "metadata": {},
     "output_type": "execute_result"
    }
   ],
   "source": [
    "log((\n",
    "    connected_person_counts\n",
    "    .loc[lambda df: df[\"SUSPECT\"] > 1]\n",
    "    .pipe(len)\n",
    "), \"People listed as suspects in multiple cases\")"
   ]
  },
  {
   "cell_type": "markdown",
   "metadata": {},
   "source": [
    "Here, we identify cases where at least one of the suspects was also named a suspect in another case:"
   ]
  },
  {
   "cell_type": "code",
   "execution_count": 40,
   "metadata": {},
   "outputs": [
    {
     "data": {
      "text/plain": [
       "9     12V0004\n",
       "20    12V0009\n",
       "45    12V0021\n",
       "48    12V0023\n",
       "91    12V0045\n",
       "Name: CASE_NUMBER, dtype: object"
      ]
     },
     "execution_count": 40,
     "metadata": {},
     "output_type": "execute_result"
    }
   ],
   "source": [
    "cases_with_repeat_suspects = (\n",
    "    person_victims_and_suspects\n",
    "    .loc[lambda df: (\n",
    "        df[\"person_uid\"].isin(\n",
    "            connected_person_counts\n",
    "            .loc[lambda df: df[\"SUSPECT\"] > 1]\n",
    "            .index\n",
    "        ) &\n",
    "        (df[\"DESCRIPTION\"] == \"SUSPECT\")\n",
    "    )]    \n",
    "    [\"CASE_NUMBER\"]\n",
    "    .drop_duplicates()\n",
    ")\n",
    "\n",
    "cases_with_repeat_suspects.head()"
   ]
  },
  {
   "cell_type": "code",
   "execution_count": 41,
   "metadata": {},
   "outputs": [
    {
     "data": {
      "text/plain": [
       "182"
      ]
     },
     "execution_count": 41,
     "metadata": {},
     "output_type": "execute_result"
    }
   ],
   "source": [
    "len(cases_with_repeat_suspects)"
   ]
  },
  {
   "cell_type": "code",
   "execution_count": 42,
   "metadata": {
    "scrolled": true
   },
   "outputs": [
    {
     "name": "stdout",
     "output_type": "stream",
     "text": [
      "Victim counts for cases with multiple-case suspects:\n"
     ]
    },
    {
     "data": {
      "text/plain": [
       "NON FATAL SHOOTING    137\n",
       "HOMICIDE SHOOTING      88\n",
       "Name: VICT_TYPE, dtype: int64"
      ]
     },
     "execution_count": 42,
     "metadata": {},
     "output_type": "execute_result"
    }
   ],
   "source": [
    "(\n",
    "    person_victims_and_suspects\n",
    "    .loc[lambda df: df[\"CASE_NUMBER\"].isin(cases_with_repeat_suspects)]\n",
    "    .loc[lambda df: df[\"DESCRIPTION\"] == \"VICTIM\"]\n",
    "    [\"VICT_TYPE\"]\n",
    "    .value_counts()\n",
    "    .pipe(log, \"Victim counts for cases with multiple-case suspects\")\n",
    ")"
   ]
  },
  {
   "cell_type": "markdown",
   "metadata": {},
   "source": [
    "## Demographics of people named in multiple cases"
   ]
  },
  {
   "cell_type": "markdown",
   "metadata": {},
   "source": [
    "There's one person in the data with conflicting information about their sex:"
   ]
  },
  {
   "cell_type": "code",
   "execution_count": 43,
   "metadata": {},
   "outputs": [
    {
     "data": {
      "text/html": [
       "<div>\n",
       "<style scoped>\n",
       "    .dataframe tbody tr th:only-of-type {\n",
       "        vertical-align: middle;\n",
       "    }\n",
       "\n",
       "    .dataframe tbody tr th {\n",
       "        vertical-align: top;\n",
       "    }\n",
       "\n",
       "    .dataframe thead th {\n",
       "        text-align: right;\n",
       "    }\n",
       "</style>\n",
       "<table border=\"1\" class=\"dataframe\">\n",
       "  <thead>\n",
       "    <tr style=\"text-align: right;\">\n",
       "      <th></th>\n",
       "      <th>RACE</th>\n",
       "      <th>SEX</th>\n",
       "    </tr>\n",
       "    <tr>\n",
       "      <th>person_uid</th>\n",
       "      <th></th>\n",
       "      <th></th>\n",
       "    </tr>\n",
       "  </thead>\n",
       "  <tbody>\n",
       "    <tr>\n",
       "      <th>300d31dee1</th>\n",
       "      <td>1</td>\n",
       "      <td>2</td>\n",
       "    </tr>\n",
       "  </tbody>\n",
       "</table>\n",
       "</div>"
      ],
      "text/plain": [
       "            RACE  SEX\n",
       "person_uid           \n",
       "300d31dee1     1    2"
      ]
     },
     "execution_count": 43,
     "metadata": {},
     "output_type": "execute_result"
    }
   ],
   "source": [
    "(\n",
    "    persons\n",
    "    .loc[lambda df: df[\"DESCRIPTION\"] != \"PERSON OF INTEREST\"]\n",
    "    .replace(\"UNKNOWN\", pd.np.nan)        \n",
    "    .groupby([\n",
    "        \"person_uid\"\n",
    "    ])\n",
    "    [[ \"RACE\", \"SEX\" ]]\n",
    "    .nunique()\n",
    "    .sort_values([ \"RACE\", \"SEX\" ])\n",
    "    .loc[lambda df: (df > 1).sum(axis = 1) > 0]\n",
    ")    "
   ]
  },
  {
   "cell_type": "markdown",
   "metadata": {},
   "source": [
    "To handle this exception, and to use the person's age at the time of their *last recorded* case, we use the most recent case on file for each person:"
   ]
  },
  {
   "cell_type": "code",
   "execution_count": 44,
   "metadata": {},
   "outputs": [
    {
     "data": {
      "text/html": [
       "<div>\n",
       "<style scoped>\n",
       "    .dataframe tbody tr th:only-of-type {\n",
       "        vertical-align: middle;\n",
       "    }\n",
       "\n",
       "    .dataframe tbody tr th {\n",
       "        vertical-align: top;\n",
       "    }\n",
       "\n",
       "    .dataframe thead th {\n",
       "        text-align: right;\n",
       "    }\n",
       "</style>\n",
       "<table border=\"1\" class=\"dataframe\">\n",
       "  <thead>\n",
       "    <tr style=\"text-align: right;\">\n",
       "      <th></th>\n",
       "      <th>person_uid</th>\n",
       "      <th>RACE</th>\n",
       "      <th>SEX</th>\n",
       "      <th>age_at_case</th>\n",
       "      <th>CASE_DATE</th>\n",
       "    </tr>\n",
       "  </thead>\n",
       "  <tbody>\n",
       "    <tr>\n",
       "      <th>0</th>\n",
       "      <td>001868b860</td>\n",
       "      <td>BLACK</td>\n",
       "      <td>MALE</td>\n",
       "      <td>30.0</td>\n",
       "      <td>2016-02-26</td>\n",
       "    </tr>\n",
       "    <tr>\n",
       "      <th>1</th>\n",
       "      <td>003d0b0827</td>\n",
       "      <td>BLACK</td>\n",
       "      <td>MALE</td>\n",
       "      <td>21.0</td>\n",
       "      <td>2015-06-06</td>\n",
       "    </tr>\n",
       "    <tr>\n",
       "      <th>2</th>\n",
       "      <td>00832f78c1</td>\n",
       "      <td>BLACK</td>\n",
       "      <td>MALE</td>\n",
       "      <td>26.0</td>\n",
       "      <td>2017-07-18</td>\n",
       "    </tr>\n",
       "    <tr>\n",
       "      <th>3</th>\n",
       "      <td>008d4ad475</td>\n",
       "      <td>BLACK</td>\n",
       "      <td>MALE</td>\n",
       "      <td>30.0</td>\n",
       "      <td>2014-12-17</td>\n",
       "    </tr>\n",
       "    <tr>\n",
       "      <th>4</th>\n",
       "      <td>00b831b181</td>\n",
       "      <td>BLACK</td>\n",
       "      <td>MALE</td>\n",
       "      <td>26.0</td>\n",
       "      <td>2014-06-16</td>\n",
       "    </tr>\n",
       "  </tbody>\n",
       "</table>\n",
       "</div>"
      ],
      "text/plain": [
       "   person_uid   RACE   SEX  age_at_case   CASE_DATE\n",
       "0  001868b860  BLACK  MALE         30.0  2016-02-26\n",
       "1  003d0b0827  BLACK  MALE         21.0  2015-06-06\n",
       "2  00832f78c1  BLACK  MALE         26.0  2017-07-18\n",
       "3  008d4ad475  BLACK  MALE         30.0  2014-12-17\n",
       "4  00b831b181  BLACK  MALE         26.0  2014-06-16"
      ]
     },
     "execution_count": 44,
     "metadata": {},
     "output_type": "execute_result"
    }
   ],
   "source": [
    "cx_latest_demographics = (\n",
    "    persons\n",
    "    # Select only persons who serve as connections between cases\n",
    "    .loc[lambda df: df[\"person_uid\"].isin(case_connections[\"person_uid\"])]\n",
    "    .sort_values(\"CASE_DATE\", ascending = False)\n",
    "    .drop_duplicates(subset = [ \"person_uid\" ])\n",
    "    .replace(\"UNKNOWN\", pd.np.nan)\n",
    "    .groupby([\n",
    "        \"person_uid\"\n",
    "    ])\n",
    "    [[ \"RACE\", \"SEX\", \"age_at_case\", \"CASE_DATE\" ]]\n",
    "    .last()\n",
    "    .reset_index()\n",
    ")\n",
    "\n",
    "cx_latest_demographics.head()"
   ]
  },
  {
   "cell_type": "code",
   "execution_count": 45,
   "metadata": {},
   "outputs": [
    {
     "data": {
      "text/plain": [
       "434"
      ]
     },
     "execution_count": 45,
     "metadata": {},
     "output_type": "execute_result"
    }
   ],
   "source": [
    "len(cx_latest_demographics)"
   ]
  },
  {
   "cell_type": "code",
   "execution_count": 46,
   "metadata": {},
   "outputs": [
    {
     "data": {
      "text/plain": [
       "16.0     3\n",
       "17.0    11\n",
       "18.0    21\n",
       "19.0    18\n",
       "20.0    21\n",
       "21.0    25\n",
       "22.0    30\n",
       "23.0    35\n",
       "24.0    43\n",
       "25.0    33\n",
       "26.0    34\n",
       "27.0    28\n",
       "28.0    23\n",
       "29.0    24\n",
       "30.0    17\n",
       "31.0    14\n",
       "32.0    11\n",
       "33.0     5\n",
       "34.0     6\n",
       "35.0     3\n",
       "36.0     6\n",
       "37.0     3\n",
       "38.0     5\n",
       "39.0     1\n",
       "40.0     1\n",
       "41.0     5\n",
       "42.0     4\n",
       "45.0     1\n",
       "49.0     1\n",
       "50.0     1\n",
       "59.0     1\n",
       "Name: age_at_case, dtype: int64"
      ]
     },
     "execution_count": 46,
     "metadata": {},
     "output_type": "execute_result"
    }
   ],
   "source": [
    "cx_latest_demographics[\"age_at_case\"].value_counts().sort_index()"
   ]
  },
  {
   "cell_type": "code",
   "execution_count": 47,
   "metadata": {},
   "outputs": [
    {
     "data": {
      "text/plain": [
       "person_uid     0\n",
       "RACE           0\n",
       "SEX            0\n",
       "age_at_case    0\n",
       "CASE_DATE      0\n",
       "dtype: int64"
      ]
     },
     "execution_count": 47,
     "metadata": {},
     "output_type": "execute_result"
    }
   ],
   "source": [
    "cx_latest_demographics.isnull().sum()"
   ]
  },
  {
   "cell_type": "code",
   "execution_count": 48,
   "metadata": {},
   "outputs": [],
   "source": [
    "assert cx_latest_demographics.isnull().sum().sum() == 0"
   ]
  },
  {
   "cell_type": "code",
   "execution_count": 49,
   "metadata": {},
   "outputs": [],
   "source": [
    "def classify_age(age):\n",
    "    if age < 18:\n",
    "        return \"group0: <18\"\n",
    "    if age < 28:\n",
    "        return \"group1: 18–27\"\n",
    "    if age < 38:\n",
    "        return \"group2: 28-37\"\n",
    "    return \"group3: 38+\""
   ]
  },
  {
   "cell_type": "code",
   "execution_count": 50,
   "metadata": {},
   "outputs": [
    {
     "name": "stdout",
     "output_type": "stream",
     "text": [
      "Demographic groupings of mulitply-involved persons:\n"
     ]
    },
    {
     "data": {
      "text/html": [
       "<div>\n",
       "<style scoped>\n",
       "    .dataframe tbody tr th:only-of-type {\n",
       "        vertical-align: middle;\n",
       "    }\n",
       "\n",
       "    .dataframe tbody tr th {\n",
       "        vertical-align: top;\n",
       "    }\n",
       "\n",
       "    .dataframe thead th {\n",
       "        text-align: right;\n",
       "    }\n",
       "</style>\n",
       "<table border=\"1\" class=\"dataframe\">\n",
       "  <thead>\n",
       "    <tr style=\"text-align: right;\">\n",
       "      <th>RACE</th>\n",
       "      <th>SEX</th>\n",
       "      <th>BLACK</th>\n",
       "      <th>WHITE</th>\n",
       "    </tr>\n",
       "    <tr>\n",
       "      <th>age_group</th>\n",
       "      <th></th>\n",
       "      <th></th>\n",
       "      <th></th>\n",
       "    </tr>\n",
       "  </thead>\n",
       "  <tbody>\n",
       "    <tr>\n",
       "      <th>&lt;18</th>\n",
       "      <td>MALE</td>\n",
       "      <td>14</td>\n",
       "      <td>0</td>\n",
       "    </tr>\n",
       "    <tr>\n",
       "      <th>18–27</th>\n",
       "      <td>FEMALE</td>\n",
       "      <td>3</td>\n",
       "      <td>1</td>\n",
       "    </tr>\n",
       "    <tr>\n",
       "      <th>18–27</th>\n",
       "      <td>MALE</td>\n",
       "      <td>282</td>\n",
       "      <td>2</td>\n",
       "    </tr>\n",
       "    <tr>\n",
       "      <th>28-37</th>\n",
       "      <td>FEMALE</td>\n",
       "      <td>1</td>\n",
       "      <td>0</td>\n",
       "    </tr>\n",
       "    <tr>\n",
       "      <th>28-37</th>\n",
       "      <td>MALE</td>\n",
       "      <td>110</td>\n",
       "      <td>1</td>\n",
       "    </tr>\n",
       "    <tr>\n",
       "      <th>38+</th>\n",
       "      <td>MALE</td>\n",
       "      <td>19</td>\n",
       "      <td>1</td>\n",
       "    </tr>\n",
       "  </tbody>\n",
       "</table>\n",
       "</div>"
      ],
      "text/plain": [
       "RACE          SEX  BLACK  WHITE\n",
       "age_group                      \n",
       " <18         MALE     14      0\n",
       " 18–27     FEMALE      3      1\n",
       " 18–27       MALE    282      2\n",
       " 28-37     FEMALE      1      0\n",
       " 28-37       MALE    110      1\n",
       " 38+         MALE     19      1"
      ]
     },
     "execution_count": 50,
     "metadata": {},
     "output_type": "execute_result"
    }
   ],
   "source": [
    "cx_demographic_groups = (\n",
    "    cx_latest_demographics\n",
    "    .assign(\n",
    "        age_group = lambda df: df[\"age_at_case\"].apply(classify_age)\n",
    "    )\n",
    "    .groupby([\n",
    "        \"age_group\",\n",
    "        \"SEX\",\n",
    "        \"RACE\"\n",
    "    ])\n",
    "    .size()\n",
    "    .unstack()\n",
    "    .fillna(0)\n",
    "    .astype(int)\n",
    "    .reset_index()\n",
    "    .assign(\n",
    "        age_group = lambda df: df[\"age_group\"].str.replace(r\".*:\", \"\")\n",
    "    )\n",
    "    .set_index(\"age_group\")\n",
    "    .pipe(log, \"Demographic groupings of mulitply-involved persons\")\n",
    ")\n",
    "\n",
    "cx_demographic_groups"
   ]
  },
  {
   "cell_type": "markdown",
   "metadata": {},
   "source": [
    "# Spatial analysis\n",
    "\n",
    "In this section, we identify connected cases that, based on the addresses provided, appear to cross the Baltimore Police Department's police-district boundaries."
   ]
  },
  {
   "cell_type": "code",
   "execution_count": 51,
   "metadata": {},
   "outputs": [
    {
     "data": {
      "text/html": [
       "<div>\n",
       "<style scoped>\n",
       "    .dataframe tbody tr th:only-of-type {\n",
       "        vertical-align: middle;\n",
       "    }\n",
       "\n",
       "    .dataframe tbody tr th {\n",
       "        vertical-align: top;\n",
       "    }\n",
       "\n",
       "    .dataframe thead th {\n",
       "        text-align: right;\n",
       "    }\n",
       "</style>\n",
       "<table border=\"1\" class=\"dataframe\">\n",
       "  <thead>\n",
       "    <tr style=\"text-align: right;\">\n",
       "      <th></th>\n",
       "      <th>OBJECTID</th>\n",
       "      <th>District</th>\n",
       "      <th>Dist_Name</th>\n",
       "      <th>geometry</th>\n",
       "    </tr>\n",
       "  </thead>\n",
       "  <tbody>\n",
       "    <tr>\n",
       "      <th>0</th>\n",
       "      <td>1</td>\n",
       "      <td>1</td>\n",
       "      <td>Central</td>\n",
       "      <td>POLYGON ((-76.63322888715999 39.31693932735156...</td>\n",
       "    </tr>\n",
       "    <tr>\n",
       "      <th>1</th>\n",
       "      <td>2</td>\n",
       "      <td>2</td>\n",
       "      <td>Southeastern</td>\n",
       "      <td>POLYGON ((-76.52974738020585 39.30757972008217...</td>\n",
       "    </tr>\n",
       "    <tr>\n",
       "      <th>2</th>\n",
       "      <td>3</td>\n",
       "      <td>3</td>\n",
       "      <td>Eastern</td>\n",
       "      <td>POLYGON ((-76.59548199054264 39.31666719434681...</td>\n",
       "    </tr>\n",
       "    <tr>\n",
       "      <th>3</th>\n",
       "      <td>4</td>\n",
       "      <td>4</td>\n",
       "      <td>Northeastern</td>\n",
       "      <td>POLYGON ((-76.5296742351015 39.37197190004328,...</td>\n",
       "    </tr>\n",
       "    <tr>\n",
       "      <th>4</th>\n",
       "      <td>5</td>\n",
       "      <td>5</td>\n",
       "      <td>Northern</td>\n",
       "      <td>POLYGON ((-76.59489865066094 39.3719258499626,...</td>\n",
       "    </tr>\n",
       "    <tr>\n",
       "      <th>5</th>\n",
       "      <td>6</td>\n",
       "      <td>6</td>\n",
       "      <td>Northwestern</td>\n",
       "      <td>POLYGON ((-76.66541434925995 39.36797107454819...</td>\n",
       "    </tr>\n",
       "    <tr>\n",
       "      <th>6</th>\n",
       "      <td>7</td>\n",
       "      <td>7</td>\n",
       "      <td>Western</td>\n",
       "      <td>POLYGON ((-76.64744797638099 39.31848085353624...</td>\n",
       "    </tr>\n",
       "    <tr>\n",
       "      <th>7</th>\n",
       "      <td>8</td>\n",
       "      <td>8</td>\n",
       "      <td>Southwestern</td>\n",
       "      <td>POLYGON ((-76.7050505368328 39.31943250702053,...</td>\n",
       "    </tr>\n",
       "    <tr>\n",
       "      <th>8</th>\n",
       "      <td>9</td>\n",
       "      <td>9</td>\n",
       "      <td>Southern</td>\n",
       "      <td>POLYGON ((-76.62805603820759 39.28790371336495...</td>\n",
       "    </tr>\n",
       "  </tbody>\n",
       "</table>\n",
       "</div>"
      ],
      "text/plain": [
       "   OBJECTID District     Dist_Name  \\\n",
       "0         1        1       Central   \n",
       "1         2        2  Southeastern   \n",
       "2         3        3       Eastern   \n",
       "3         4        4  Northeastern   \n",
       "4         5        5      Northern   \n",
       "5         6        6  Northwestern   \n",
       "6         7        7       Western   \n",
       "7         8        8  Southwestern   \n",
       "8         9        9      Southern   \n",
       "\n",
       "                                            geometry  \n",
       "0  POLYGON ((-76.63322888715999 39.31693932735156...  \n",
       "1  POLYGON ((-76.52974738020585 39.30757972008217...  \n",
       "2  POLYGON ((-76.59548199054264 39.31666719434681...  \n",
       "3  POLYGON ((-76.5296742351015 39.37197190004328,...  \n",
       "4  POLYGON ((-76.59489865066094 39.3719258499626,...  \n",
       "5  POLYGON ((-76.66541434925995 39.36797107454819...  \n",
       "6  POLYGON ((-76.64744797638099 39.31848085353624...  \n",
       "7  POLYGON ((-76.7050505368328 39.31943250702053,...  \n",
       "8  POLYGON ((-76.62805603820759 39.28790371336495...  "
      ]
     },
     "execution_count": 51,
     "metadata": {},
     "output_type": "execute_result"
    }
   ],
   "source": [
    "districts = (\n",
    "    gpd\n",
    "    .read_file(\"../inputs/Police_Districts/Police_Districts.shp\")\n",
    "    .to_crs(epsg = 4326)\n",
    ")\n",
    "\n",
    "districts"
   ]
  },
  {
   "cell_type": "code",
   "execution_count": 52,
   "metadata": {},
   "outputs": [
    {
     "data": {
      "image/png": "[encoded data removed]",
      "text/plain": [
       "<Figure size 432x288 with 1 Axes>"
      ]
     },
     "metadata": {
      "needs_background": "light"
     },
     "output_type": "display_data"
    }
   ],
   "source": [
    "districts.plot();"
   ]
  },
  {
   "cell_type": "markdown",
   "metadata": {},
   "source": [
    "## Join districts to other spatial data"
   ]
  },
  {
   "cell_type": "code",
   "execution_count": 53,
   "metadata": {},
   "outputs": [
    {
     "data": {
      "text/html": [
       "<div>\n",
       "<style scoped>\n",
       "    .dataframe tbody tr th:only-of-type {\n",
       "        vertical-align: middle;\n",
       "    }\n",
       "\n",
       "    .dataframe tbody tr th {\n",
       "        vertical-align: top;\n",
       "    }\n",
       "\n",
       "    .dataframe thead th {\n",
       "        text-align: right;\n",
       "    }\n",
       "</style>\n",
       "<table border=\"1\" class=\"dataframe\">\n",
       "  <thead>\n",
       "    <tr style=\"text-align: right;\">\n",
       "      <th></th>\n",
       "      <th>agency_ori</th>\n",
       "      <th>agency_incident_id</th>\n",
       "      <th>location_address</th>\n",
       "      <th>location_address_adjusted</th>\n",
       "      <th>latlng_method</th>\n",
       "      <th>geocoded_location_interpreted</th>\n",
       "      <th>geocoded_location_type</th>\n",
       "      <th>geocoding_imprecise</th>\n",
       "      <th>lat</th>\n",
       "      <th>lng</th>\n",
       "      <th>tract_2010</th>\n",
       "      <th>tract_state_2010</th>\n",
       "      <th>tract_2000</th>\n",
       "      <th>tract_state_2000</th>\n",
       "      <th>geometry</th>\n",
       "    </tr>\n",
       "  </thead>\n",
       "  <tbody>\n",
       "    <tr>\n",
       "      <th>0</th>\n",
       "      <td>MDBPD0000</td>\n",
       "      <td>17V0351</td>\n",
       "      <td>1700 SHERWOOD AV</td>\n",
       "      <td>1700 SHERWOOD AV, Baltimore, Maryland, USA</td>\n",
       "      <td>geocoded</td>\n",
       "      <td>1700 Sherwood Ave, Baltimore, MD 21239, USA</td>\n",
       "      <td>premise</td>\n",
       "      <td>False</td>\n",
       "      <td>39.360424</td>\n",
       "      <td>-76.580990</td>\n",
       "      <td>2.451027e+10</td>\n",
       "      <td>MD</td>\n",
       "      <td>2.451027e+10</td>\n",
       "      <td>MD</td>\n",
       "      <td>POINT (-76.5809905 39.3604239)</td>\n",
       "    </tr>\n",
       "    <tr>\n",
       "      <th>1</th>\n",
       "      <td>MDBPD0000</td>\n",
       "      <td>17H0198</td>\n",
       "      <td>1200 GREENMOUNT AV</td>\n",
       "      <td>1200 GREENMOUNT AV, Baltimore, Maryland, USA</td>\n",
       "      <td>geocoded</td>\n",
       "      <td>1200 Greenmount Ave, Baltimore, MD 21202, USA</td>\n",
       "      <td>street_address</td>\n",
       "      <td>False</td>\n",
       "      <td>39.303676</td>\n",
       "      <td>-76.608015</td>\n",
       "      <td>2.451010e+10</td>\n",
       "      <td>MD</td>\n",
       "      <td>2.451010e+10</td>\n",
       "      <td>MD</td>\n",
       "      <td>POINT (-76.60801540000001 39.30367570000001)</td>\n",
       "    </tr>\n",
       "    <tr>\n",
       "      <th>2</th>\n",
       "      <td>MDBPD0000</td>\n",
       "      <td>17V0349</td>\n",
       "      <td>1700 W LOMBARD ST</td>\n",
       "      <td>1700 W LOMBARD ST, Baltimore, Maryland, USA</td>\n",
       "      <td>geocoded</td>\n",
       "      <td>1700 W Lombard St, Baltimore, MD 21223, USA</td>\n",
       "      <td>street_address</td>\n",
       "      <td>False</td>\n",
       "      <td>39.286505</td>\n",
       "      <td>-76.643832</td>\n",
       "      <td>2.451019e+10</td>\n",
       "      <td>MD</td>\n",
       "      <td>2.451019e+10</td>\n",
       "      <td>MD</td>\n",
       "      <td>POINT (-76.64383199999997 39.286505)</td>\n",
       "    </tr>\n",
       "    <tr>\n",
       "      <th>3</th>\n",
       "      <td>MDBPD0000</td>\n",
       "      <td>17V0348</td>\n",
       "      <td>1300 WOODBOURNE AV</td>\n",
       "      <td>1300 WOODBOURNE AV, Baltimore, Maryland, USA</td>\n",
       "      <td>geocoded</td>\n",
       "      <td>1300 Woodbourne Ave, Baltimore, MD 21239, USA</td>\n",
       "      <td>street_address</td>\n",
       "      <td>False</td>\n",
       "      <td>39.354395</td>\n",
       "      <td>-76.593172</td>\n",
       "      <td>2.451027e+10</td>\n",
       "      <td>MD</td>\n",
       "      <td>2.451027e+10</td>\n",
       "      <td>MD</td>\n",
       "      <td>POINT (-76.593172 39.3543949)</td>\n",
       "    </tr>\n",
       "    <tr>\n",
       "      <th>4</th>\n",
       "      <td>MDBPD0000</td>\n",
       "      <td>17V0346</td>\n",
       "      <td>3600 HAYWARD AV</td>\n",
       "      <td>3600 HAYWARD AV, Baltimore, Maryland, USA</td>\n",
       "      <td>geocoded</td>\n",
       "      <td>3600 Hayward Ave, Baltimore, MD 21215, USA</td>\n",
       "      <td>street_address</td>\n",
       "      <td>False</td>\n",
       "      <td>39.348306</td>\n",
       "      <td>-76.681842</td>\n",
       "      <td>2.451027e+10</td>\n",
       "      <td>MD</td>\n",
       "      <td>2.451027e+10</td>\n",
       "      <td>MD</td>\n",
       "      <td>POINT (-76.681842 39.348306)</td>\n",
       "    </tr>\n",
       "  </tbody>\n",
       "</table>\n",
       "</div>"
      ],
      "text/plain": [
       "  agency_ori agency_incident_id    location_address  \\\n",
       "0  MDBPD0000            17V0351    1700 SHERWOOD AV   \n",
       "1  MDBPD0000            17H0198  1200 GREENMOUNT AV   \n",
       "2  MDBPD0000            17V0349   1700 W LOMBARD ST   \n",
       "3  MDBPD0000            17V0348  1300 WOODBOURNE AV   \n",
       "4  MDBPD0000            17V0346     3600 HAYWARD AV   \n",
       "\n",
       "                      location_address_adjusted latlng_method  \\\n",
       "0    1700 SHERWOOD AV, Baltimore, Maryland, USA      geocoded   \n",
       "1  1200 GREENMOUNT AV, Baltimore, Maryland, USA      geocoded   \n",
       "2   1700 W LOMBARD ST, Baltimore, Maryland, USA      geocoded   \n",
       "3  1300 WOODBOURNE AV, Baltimore, Maryland, USA      geocoded   \n",
       "4     3600 HAYWARD AV, Baltimore, Maryland, USA      geocoded   \n",
       "\n",
       "                   geocoded_location_interpreted geocoded_location_type  \\\n",
       "0    1700 Sherwood Ave, Baltimore, MD 21239, USA                premise   \n",
       "1  1200 Greenmount Ave, Baltimore, MD 21202, USA         street_address   \n",
       "2    1700 W Lombard St, Baltimore, MD 21223, USA         street_address   \n",
       "3  1300 Woodbourne Ave, Baltimore, MD 21239, USA         street_address   \n",
       "4     3600 Hayward Ave, Baltimore, MD 21215, USA         street_address   \n",
       "\n",
       "   geocoding_imprecise        lat        lng    tract_2010 tract_state_2010  \\\n",
       "0                False  39.360424 -76.580990  2.451027e+10               MD   \n",
       "1                False  39.303676 -76.608015  2.451010e+10               MD   \n",
       "2                False  39.286505 -76.643832  2.451019e+10               MD   \n",
       "3                False  39.354395 -76.593172  2.451027e+10               MD   \n",
       "4                False  39.348306 -76.681842  2.451027e+10               MD   \n",
       "\n",
       "     tract_2000 tract_state_2000                                      geometry  \n",
       "0  2.451027e+10               MD                POINT (-76.5809905 39.3604239)  \n",
       "1  2.451010e+10               MD  POINT (-76.60801540000001 39.30367570000001)  \n",
       "2  2.451019e+10               MD          POINT (-76.64383199999997 39.286505)  \n",
       "3  2.451027e+10               MD                 POINT (-76.593172 39.3543949)  \n",
       "4  2.451027e+10               MD                  POINT (-76.681842 39.348306)  "
      ]
     },
     "execution_count": 53,
     "metadata": {},
     "output_type": "execute_result"
    }
   ],
   "source": [
    "geocoded_addresses = (\n",
    "    pd.read_csv(\n",
    "        \"../inputs/baltimore-case-addresses.csv\"\n",
    "    )\n",
    "    .assign(\n",
    "        lng = lambda x: x[\"lng\"].fillna(0.0),\n",
    "        lat = lambda x: x[\"lat\"].fillna(0.0),\n",
    "    )\n",
    "    .assign(\n",
    "        geometry = lambda x: x.fillna(0.0).apply(\n",
    "            lambda row: Point(row[\"lng\"], row[\"lat\"]),\n",
    "            axis = 1\n",
    "        )\n",
    "    )\n",
    "    .pipe(gpd.GeoDataFrame)\n",
    ")\n",
    "\n",
    "geocoded_addresses.crs = districts.crs\n",
    "\n",
    "geocoded_addresses.head()"
   ]
  },
  {
   "cell_type": "code",
   "execution_count": 54,
   "metadata": {
    "scrolled": false
   },
   "outputs": [
    {
     "data": {
      "text/html": [
       "<div>\n",
       "<style scoped>\n",
       "    .dataframe tbody tr th:only-of-type {\n",
       "        vertical-align: middle;\n",
       "    }\n",
       "\n",
       "    .dataframe tbody tr th {\n",
       "        vertical-align: top;\n",
       "    }\n",
       "\n",
       "    .dataframe thead th {\n",
       "        text-align: right;\n",
       "    }\n",
       "</style>\n",
       "<table border=\"1\" class=\"dataframe\">\n",
       "  <thead>\n",
       "    <tr style=\"text-align: right;\">\n",
       "      <th></th>\n",
       "      <th>agency_incident_id</th>\n",
       "      <th>location_address</th>\n",
       "      <th>latlng_method</th>\n",
       "      <th>geocoded_location_interpreted</th>\n",
       "      <th>geocoded_location_type</th>\n",
       "      <th>geocoding_imprecise</th>\n",
       "      <th>geometry</th>\n",
       "      <th>police_district</th>\n",
       "    </tr>\n",
       "  </thead>\n",
       "  <tbody>\n",
       "    <tr>\n",
       "      <th>0</th>\n",
       "      <td>17V0351</td>\n",
       "      <td>1700 SHERWOOD AV</td>\n",
       "      <td>geocoded</td>\n",
       "      <td>1700 Sherwood Ave, Baltimore, MD 21239, USA</td>\n",
       "      <td>premise</td>\n",
       "      <td>False</td>\n",
       "      <td>POINT (-76.5809905 39.3604239)</td>\n",
       "      <td>Northeastern</td>\n",
       "    </tr>\n",
       "    <tr>\n",
       "      <th>1</th>\n",
       "      <td>17H0198</td>\n",
       "      <td>1200 GREENMOUNT AV</td>\n",
       "      <td>geocoded</td>\n",
       "      <td>1200 Greenmount Ave, Baltimore, MD 21202, USA</td>\n",
       "      <td>street_address</td>\n",
       "      <td>False</td>\n",
       "      <td>POINT (-76.60801540000001 39.30367570000001)</td>\n",
       "      <td>Eastern</td>\n",
       "    </tr>\n",
       "    <tr>\n",
       "      <th>2</th>\n",
       "      <td>17V0349</td>\n",
       "      <td>1700 W LOMBARD ST</td>\n",
       "      <td>geocoded</td>\n",
       "      <td>1700 W Lombard St, Baltimore, MD 21223, USA</td>\n",
       "      <td>street_address</td>\n",
       "      <td>False</td>\n",
       "      <td>POINT (-76.64383199999997 39.286505)</td>\n",
       "      <td>Southern</td>\n",
       "    </tr>\n",
       "    <tr>\n",
       "      <th>3</th>\n",
       "      <td>17V0348</td>\n",
       "      <td>1300 WOODBOURNE AV</td>\n",
       "      <td>geocoded</td>\n",
       "      <td>1300 Woodbourne Ave, Baltimore, MD 21239, USA</td>\n",
       "      <td>street_address</td>\n",
       "      <td>False</td>\n",
       "      <td>POINT (-76.593172 39.3543949)</td>\n",
       "      <td>Northeastern</td>\n",
       "    </tr>\n",
       "    <tr>\n",
       "      <th>4</th>\n",
       "      <td>17V0346</td>\n",
       "      <td>3600 HAYWARD AV</td>\n",
       "      <td>geocoded</td>\n",
       "      <td>3600 Hayward Ave, Baltimore, MD 21215, USA</td>\n",
       "      <td>street_address</td>\n",
       "      <td>False</td>\n",
       "      <td>POINT (-76.681842 39.348306)</td>\n",
       "      <td>Northwestern</td>\n",
       "    </tr>\n",
       "  </tbody>\n",
       "</table>\n",
       "</div>"
      ],
      "text/plain": [
       "  agency_incident_id    location_address latlng_method  \\\n",
       "0            17V0351    1700 SHERWOOD AV      geocoded   \n",
       "1            17H0198  1200 GREENMOUNT AV      geocoded   \n",
       "2            17V0349   1700 W LOMBARD ST      geocoded   \n",
       "3            17V0348  1300 WOODBOURNE AV      geocoded   \n",
       "4            17V0346     3600 HAYWARD AV      geocoded   \n",
       "\n",
       "                   geocoded_location_interpreted geocoded_location_type  \\\n",
       "0    1700 Sherwood Ave, Baltimore, MD 21239, USA                premise   \n",
       "1  1200 Greenmount Ave, Baltimore, MD 21202, USA         street_address   \n",
       "2    1700 W Lombard St, Baltimore, MD 21223, USA         street_address   \n",
       "3  1300 Woodbourne Ave, Baltimore, MD 21239, USA         street_address   \n",
       "4     3600 Hayward Ave, Baltimore, MD 21215, USA         street_address   \n",
       "\n",
       "   geocoding_imprecise                                      geometry  \\\n",
       "0                False                POINT (-76.5809905 39.3604239)   \n",
       "1                False  POINT (-76.60801540000001 39.30367570000001)   \n",
       "2                False          POINT (-76.64383199999997 39.286505)   \n",
       "3                False                 POINT (-76.593172 39.3543949)   \n",
       "4                False                  POINT (-76.681842 39.348306)   \n",
       "\n",
       "  police_district  \n",
       "0    Northeastern  \n",
       "1         Eastern  \n",
       "2        Southern  \n",
       "3    Northeastern  \n",
       "4    Northwestern  "
      ]
     },
     "execution_count": 54,
     "metadata": {},
     "output_type": "execute_result"
    }
   ],
   "source": [
    "incident_locations = (    \n",
    "    geocoded_addresses\n",
    "    .pipe(\n",
    "        gpd.sjoin,\n",
    "        districts\n",
    "        [[\n",
    "            \"Dist_Name\",\n",
    "            \"geometry\"\n",
    "        ]].rename(columns = {\n",
    "            \"Dist_Name\": \"police_district\",\n",
    "        }),\n",
    "        how = \"left\",\n",
    "    )\n",
    "    .drop(columns = [\n",
    "        \"index_right\"\n",
    "    ])\n",
    "    [[\n",
    "        \"agency_incident_id\",\n",
    "        \"location_address\",\n",
    "        \"latlng_method\",\n",
    "        \"geocoded_location_interpreted\",\n",
    "        \"geocoded_location_type\",\n",
    "        \"geocoding_imprecise\",\n",
    "        \"geometry\",\n",
    "        \"police_district\"\n",
    "    ]]\n",
    "    .drop_duplicates(subset = [\n",
    "        \"agency_incident_id\",\n",
    "        \"geocoded_location_interpreted\"\n",
    "    ])\n",
    ")\n",
    "\n",
    "incident_locations.head()"
   ]
  },
  {
   "cell_type": "code",
   "execution_count": 55,
   "metadata": {},
   "outputs": [
    {
     "data": {
      "text/plain": [
       "4097"
      ]
     },
     "execution_count": 55,
     "metadata": {},
     "output_type": "execute_result"
    }
   ],
   "source": [
    "(\n",
    "    person_victims_and_suspects\n",
    "    .loc[lambda df: df[\"DESCRIPTION\"] == \"VICTIM\"]\n",
    "    .pipe(len)\n",
    ")"
   ]
  },
  {
   "cell_type": "code",
   "execution_count": 56,
   "metadata": {},
   "outputs": [],
   "source": [
    "assert incident_locations[\"agency_incident_id\"].nunique() == len(incident_locations)"
   ]
  },
  {
   "cell_type": "code",
   "execution_count": 57,
   "metadata": {},
   "outputs": [
    {
     "data": {
      "text/plain": [
       "Western         595\n",
       "Southwestern    500\n",
       "Eastern         498\n",
       "Northeastern    431\n",
       "Northwestern    408\n",
       "Southern        377\n",
       "Northern        233\n",
       "Central         230\n",
       "Southeastern    206\n",
       "[blank]           1\n",
       "Name: police_district, dtype: int64"
      ]
     },
     "execution_count": 57,
     "metadata": {},
     "output_type": "execute_result"
    }
   ],
   "source": [
    "(\n",
    "    incident_locations\n",
    "    [\"police_district\"]\n",
    "    .fillna(\"[blank]\")\n",
    "    .value_counts()\n",
    ")"
   ]
  },
  {
   "cell_type": "code",
   "execution_count": 58,
   "metadata": {},
   "outputs": [
    {
     "data": {
      "text/plain": [
       "False    3477\n",
       "True        2\n",
       "Name: geocoding_imprecise, dtype: int64"
      ]
     },
     "execution_count": 58,
     "metadata": {},
     "output_type": "execute_result"
    }
   ],
   "source": [
    "(\n",
    "    geocoded_addresses\n",
    "    [\"geocoding_imprecise\"]\n",
    "    .fillna(\"[blank]\")\n",
    "    .value_counts()\n",
    ")"
   ]
  },
  {
   "cell_type": "markdown",
   "metadata": {},
   "source": [
    "Note: Per above, there is one incident not geocoded to within a Baltimore police district. The address appears to be just outside district lines. (It is not a case connected to others in this analysis.) There are also two addresses that Google's API reported could only be imprecisely geocoded; all plausible locations for each of those addresses, however, are contained within a single police district."
   ]
  },
  {
   "cell_type": "markdown",
   "metadata": {},
   "source": [
    "## Analyze geography of connected cases"
   ]
  },
  {
   "cell_type": "code",
   "execution_count": 59,
   "metadata": {},
   "outputs": [
    {
     "data": {
      "text/html": [
       "<div>\n",
       "<style scoped>\n",
       "    .dataframe tbody tr th:only-of-type {\n",
       "        vertical-align: middle;\n",
       "    }\n",
       "\n",
       "    .dataframe tbody tr th {\n",
       "        vertical-align: top;\n",
       "    }\n",
       "\n",
       "    .dataframe thead th {\n",
       "        text-align: right;\n",
       "    }\n",
       "</style>\n",
       "<table border=\"1\" class=\"dataframe\">\n",
       "  <thead>\n",
       "    <tr style=\"text-align: right;\">\n",
       "      <th></th>\n",
       "      <th>CASE_NUMBER_x</th>\n",
       "      <th>CASE_NUMBER_y</th>\n",
       "      <th>group</th>\n",
       "      <th>geometry_x</th>\n",
       "      <th>police_district_x</th>\n",
       "      <th>geometry_y</th>\n",
       "      <th>police_district_y</th>\n",
       "    </tr>\n",
       "  </thead>\n",
       "  <tbody>\n",
       "    <tr>\n",
       "      <th>0</th>\n",
       "      <td>12V0001</td>\n",
       "      <td>15H0158</td>\n",
       "      <td>0</td>\n",
       "      <td>POINT (-76.60951490000002 39.3436344)</td>\n",
       "      <td>Northern</td>\n",
       "      <td>POINT (-76.57904090000002 39.3003647)</td>\n",
       "      <td>Eastern</td>\n",
       "    </tr>\n",
       "    <tr>\n",
       "      <th>1</th>\n",
       "      <td>12V0004</td>\n",
       "      <td>15V0212</td>\n",
       "      <td>1</td>\n",
       "      <td>POINT (-76.59725659999999 39.3608588)</td>\n",
       "      <td>Northern</td>\n",
       "      <td>POINT (-76.59726739999998 39.3671029)</td>\n",
       "      <td>Northern</td>\n",
       "    </tr>\n",
       "    <tr>\n",
       "      <th>2</th>\n",
       "      <td>12V0009</td>\n",
       "      <td>12V0021</td>\n",
       "      <td>2</td>\n",
       "      <td>POINT (-76.64136069999998 39.2922586)</td>\n",
       "      <td>Western</td>\n",
       "      <td>POINT (-76.64390970000002 39.287482)</td>\n",
       "      <td>Southern</td>\n",
       "    </tr>\n",
       "    <tr>\n",
       "      <th>3</th>\n",
       "      <td>12V0009</td>\n",
       "      <td>15V0439</td>\n",
       "      <td>2</td>\n",
       "      <td>POINT (-76.64136069999998 39.2922586)</td>\n",
       "      <td>Western</td>\n",
       "      <td>POINT (-76.64897599999998 39.2906135)</td>\n",
       "      <td>Western</td>\n",
       "    </tr>\n",
       "    <tr>\n",
       "      <th>4</th>\n",
       "      <td>12V0017</td>\n",
       "      <td>12V0206</td>\n",
       "      <td>3</td>\n",
       "      <td>POINT (-76.622078 39.24608200000001)</td>\n",
       "      <td>Southern</td>\n",
       "      <td>POINT (-76.62741219999999 39.306631)</td>\n",
       "      <td>Central</td>\n",
       "    </tr>\n",
       "  </tbody>\n",
       "</table>\n",
       "</div>"
      ],
      "text/plain": [
       "  CASE_NUMBER_x CASE_NUMBER_y  group                             geometry_x  \\\n",
       "0       12V0001       15H0158      0  POINT (-76.60951490000002 39.3436344)   \n",
       "1       12V0004       15V0212      1  POINT (-76.59725659999999 39.3608588)   \n",
       "2       12V0009       12V0021      2  POINT (-76.64136069999998 39.2922586)   \n",
       "3       12V0009       15V0439      2  POINT (-76.64136069999998 39.2922586)   \n",
       "4       12V0017       12V0206      3   POINT (-76.622078 39.24608200000001)   \n",
       "\n",
       "  police_district_x                             geometry_y police_district_y  \n",
       "0          Northern  POINT (-76.57904090000002 39.3003647)           Eastern  \n",
       "1          Northern  POINT (-76.59726739999998 39.3671029)          Northern  \n",
       "2           Western   POINT (-76.64390970000002 39.287482)          Southern  \n",
       "3           Western  POINT (-76.64897599999998 39.2906135)           Western  \n",
       "4          Southern   POINT (-76.62741219999999 39.306631)           Central  "
      ]
     },
     "execution_count": 59,
     "metadata": {},
     "output_type": "execute_result"
    }
   ],
   "source": [
    "# Identify the districts for each of the cases,\n",
    "# for any two connected cases\n",
    "connected_cases_districts = (\n",
    "    connected_cases\n",
    "    .merge(\n",
    "        groups[[ \"CASE_NUMBER\", \"group\" ]],\n",
    "        how = \"left\",\n",
    "        left_on = [ \"CASE_NUMBER_x\" ],\n",
    "        right_on = [ \"CASE_NUMBER\" ],\n",
    "        validate = \"m:1\",        \n",
    "    )\n",
    "    .drop(columns = [ \"CASE_NUMBER\" ])\n",
    "    .merge(\n",
    "        incident_locations[[ \"agency_incident_id\", \"geometry\", \"police_district\" ]],\n",
    "        how = \"left\",\n",
    "        left_on = [ \"CASE_NUMBER_x\" ],\n",
    "        right_on = [ \"agency_incident_id\" ],\n",
    "        validate = \"m:1\",\n",
    "    )\n",
    "    .drop(columns = [ \"agency_incident_id\" ])\n",
    "    .merge(\n",
    "        incident_locations[[ \"agency_incident_id\", \"geometry\", \"police_district\" ]],\n",
    "        how = \"left\",\n",
    "        left_on = [ \"CASE_NUMBER_y\" ],\n",
    "        right_on = [ \"agency_incident_id\" ],\n",
    "        validate = \"m:1\",        \n",
    "    )\n",
    "    .drop(columns = [ \"agency_incident_id\" ])\n",
    ")\n",
    "\n",
    "connected_cases_districts.head()"
   ]
  },
  {
   "cell_type": "code",
   "execution_count": 60,
   "metadata": {},
   "outputs": [
    {
     "name": "stdout",
     "output_type": "stream",
     "text": [
      "Proportion of *case connections* that are multi-district:\n"
     ]
    },
    {
     "data": {
      "text/plain": [
       "0.426"
      ]
     },
     "execution_count": 60,
     "metadata": {},
     "output_type": "execute_result"
    }
   ],
   "source": [
    "log(\n",
    "    connected_cases_districts\n",
    "    .pipe(lambda df: df[\"police_district_x\"] != df[\"police_district_y\"])\n",
    "    .mean()\n",
    "    .round(3),\n",
    "    \"Proportion of *case connections* that are multi-district\"\n",
    ")"
   ]
  },
  {
   "cell_type": "code",
   "execution_count": 61,
   "metadata": {},
   "outputs": [
    {
     "data": {
      "text/plain": [
       "(0.469,)"
      ]
     },
     "execution_count": 61,
     "metadata": {},
     "output_type": "execute_result"
    }
   ],
   "source": [
    "(    connected_cases_districts\n",
    "    .assign(\n",
    "        same_district = lambda df: df[\"police_district_x\"] == df[\"police_district_y\"]\n",
    "    )\n",
    "    .melt(\n",
    "        id_vars = [ \"same_district\" ],\n",
    "        value_vars = [ \"CASE_NUMBER_x\", \"CASE_NUMBER_y\" ]\n",
    "    )\n",
    "     .groupby([\"value\"])\n",
    "    [\"same_district\"]\n",
    "    .mean()\n",
    "    .pipe(lambda x: (x < 1).mean())\n",
    "    .round(3),\n",
    ")"
   ]
  },
  {
   "cell_type": "code",
   "execution_count": 62,
   "metadata": {},
   "outputs": [
    {
     "name": "stdout",
     "output_type": "stream",
     "text": [
      "Proportion of *connected cases* that have at least one out-of-district connection:\n"
     ]
    },
    {
     "data": {
      "text/plain": [
       "0.469"
      ]
     },
     "execution_count": 62,
     "metadata": {},
     "output_type": "execute_result"
    }
   ],
   "source": [
    "log(\n",
    "    connected_cases_districts\n",
    "    .assign(\n",
    "        same_district = lambda df: df[\"police_district_x\"] == df[\"police_district_y\"]\n",
    "    )\n",
    "    .melt(\n",
    "        id_vars = [ \"same_district\" ],\n",
    "        value_vars = [ \"CASE_NUMBER_x\", \"CASE_NUMBER_y\" ]\n",
    "    )\n",
    "    .groupby([\"value\"])\n",
    "    [\"same_district\"]\n",
    "    .mean()\n",
    "    .pipe(lambda x: (x < 1).mean())\n",
    "    .round(3),\n",
    "    \"Proportion of *connected cases* that have at least one out-of-district connection\"\n",
    ")"
   ]
  },
  {
   "cell_type": "markdown",
   "metadata": {},
   "source": [
    "The most common district combinations:"
   ]
  },
  {
   "cell_type": "code",
   "execution_count": 63,
   "metadata": {},
   "outputs": [
    {
     "data": {
      "text/html": [
       "<div>\n",
       "<style scoped>\n",
       "    .dataframe tbody tr th:only-of-type {\n",
       "        vertical-align: middle;\n",
       "    }\n",
       "\n",
       "    .dataframe tbody tr th {\n",
       "        vertical-align: top;\n",
       "    }\n",
       "\n",
       "    .dataframe thead th {\n",
       "        text-align: right;\n",
       "    }\n",
       "</style>\n",
       "<table border=\"1\" class=\"dataframe\">\n",
       "  <thead>\n",
       "    <tr style=\"text-align: right;\">\n",
       "      <th>police_district_y</th>\n",
       "      <th>Central</th>\n",
       "      <th>Eastern</th>\n",
       "      <th>Northeastern</th>\n",
       "      <th>Northern</th>\n",
       "      <th>Northwestern</th>\n",
       "      <th>Southeastern</th>\n",
       "      <th>Southern</th>\n",
       "      <th>Southwestern</th>\n",
       "      <th>Western</th>\n",
       "    </tr>\n",
       "    <tr>\n",
       "      <th>police_district_x</th>\n",
       "      <th></th>\n",
       "      <th></th>\n",
       "      <th></th>\n",
       "      <th></th>\n",
       "      <th></th>\n",
       "      <th></th>\n",
       "      <th></th>\n",
       "      <th></th>\n",
       "      <th></th>\n",
       "    </tr>\n",
       "  </thead>\n",
       "  <tbody>\n",
       "    <tr>\n",
       "      <th>Central</th>\n",
       "      <td>12</td>\n",
       "      <td>3</td>\n",
       "      <td>4</td>\n",
       "      <td>0</td>\n",
       "      <td>1</td>\n",
       "      <td>1</td>\n",
       "      <td>1</td>\n",
       "      <td>5</td>\n",
       "      <td>8</td>\n",
       "    </tr>\n",
       "    <tr>\n",
       "      <th>Eastern</th>\n",
       "      <td>3</td>\n",
       "      <td>62</td>\n",
       "      <td>6</td>\n",
       "      <td>5</td>\n",
       "      <td>0</td>\n",
       "      <td>1</td>\n",
       "      <td>5</td>\n",
       "      <td>1</td>\n",
       "      <td>6</td>\n",
       "    </tr>\n",
       "    <tr>\n",
       "      <th>Northeastern</th>\n",
       "      <td>0</td>\n",
       "      <td>9</td>\n",
       "      <td>36</td>\n",
       "      <td>2</td>\n",
       "      <td>1</td>\n",
       "      <td>1</td>\n",
       "      <td>1</td>\n",
       "      <td>1</td>\n",
       "      <td>5</td>\n",
       "    </tr>\n",
       "    <tr>\n",
       "      <th>Northern</th>\n",
       "      <td>0</td>\n",
       "      <td>8</td>\n",
       "      <td>3</td>\n",
       "      <td>17</td>\n",
       "      <td>1</td>\n",
       "      <td>0</td>\n",
       "      <td>1</td>\n",
       "      <td>1</td>\n",
       "      <td>7</td>\n",
       "    </tr>\n",
       "    <tr>\n",
       "      <th>Northwestern</th>\n",
       "      <td>3</td>\n",
       "      <td>1</td>\n",
       "      <td>1</td>\n",
       "      <td>4</td>\n",
       "      <td>33</td>\n",
       "      <td>0</td>\n",
       "      <td>3</td>\n",
       "      <td>3</td>\n",
       "      <td>4</td>\n",
       "    </tr>\n",
       "    <tr>\n",
       "      <th>Southeastern</th>\n",
       "      <td>2</td>\n",
       "      <td>5</td>\n",
       "      <td>0</td>\n",
       "      <td>0</td>\n",
       "      <td>0</td>\n",
       "      <td>22</td>\n",
       "      <td>0</td>\n",
       "      <td>0</td>\n",
       "      <td>2</td>\n",
       "    </tr>\n",
       "    <tr>\n",
       "      <th>Southern</th>\n",
       "      <td>4</td>\n",
       "      <td>4</td>\n",
       "      <td>1</td>\n",
       "      <td>2</td>\n",
       "      <td>0</td>\n",
       "      <td>0</td>\n",
       "      <td>35</td>\n",
       "      <td>8</td>\n",
       "      <td>13</td>\n",
       "    </tr>\n",
       "    <tr>\n",
       "      <th>Southwestern</th>\n",
       "      <td>1</td>\n",
       "      <td>1</td>\n",
       "      <td>0</td>\n",
       "      <td>10</td>\n",
       "      <td>8</td>\n",
       "      <td>0</td>\n",
       "      <td>9</td>\n",
       "      <td>54</td>\n",
       "      <td>16</td>\n",
       "    </tr>\n",
       "    <tr>\n",
       "      <th>Western</th>\n",
       "      <td>16</td>\n",
       "      <td>5</td>\n",
       "      <td>5</td>\n",
       "      <td>2</td>\n",
       "      <td>1</td>\n",
       "      <td>1</td>\n",
       "      <td>14</td>\n",
       "      <td>11</td>\n",
       "      <td>67</td>\n",
       "    </tr>\n",
       "  </tbody>\n",
       "</table>\n",
       "</div>"
      ],
      "text/plain": [
       "police_district_y  Central  Eastern  Northeastern  Northern  Northwestern  \\\n",
       "police_district_x                                                           \n",
       "Central                 12        3             4         0             1   \n",
       "Eastern                  3       62             6         5             0   \n",
       "Northeastern             0        9            36         2             1   \n",
       "Northern                 0        8             3        17             1   \n",
       "Northwestern             3        1             1         4            33   \n",
       "Southeastern             2        5             0         0             0   \n",
       "Southern                 4        4             1         2             0   \n",
       "Southwestern             1        1             0        10             8   \n",
       "Western                 16        5             5         2             1   \n",
       "\n",
       "police_district_y  Southeastern  Southern  Southwestern  Western  \n",
       "police_district_x                                                 \n",
       "Central                       1         1             5        8  \n",
       "Eastern                       1         5             1        6  \n",
       "Northeastern                  1         1             1        5  \n",
       "Northern                      0         1             1        7  \n",
       "Northwestern                  0         3             3        4  \n",
       "Southeastern                 22         0             0        2  \n",
       "Southern                      0        35             8       13  \n",
       "Southwestern                  0         9            54       16  \n",
       "Western                       1        14            11       67  "
      ]
     },
     "execution_count": 63,
     "metadata": {},
     "output_type": "execute_result"
    }
   ],
   "source": [
    "(\n",
    "    connected_cases_districts\n",
    "    .groupby([\n",
    "        \"police_district_x\",\n",
    "        \"police_district_y\",\n",
    "    ])\n",
    "    .size()\n",
    "    .unstack()\n",
    "    .fillna(0)\n",
    "    .astype(int)\n",
    ")"
   ]
  },
  {
   "cell_type": "code",
   "execution_count": 64,
   "metadata": {},
   "outputs": [
    {
     "data": {
      "text/plain": [
       "(Southern, Western)             27\n",
       "(Southwestern, Western)         27\n",
       "(Central, Western)              24\n",
       "(Southern, Southwestern)        17\n",
       "(Eastern, Northeastern)         15\n",
       "(Eastern, Northern)             13\n",
       "(Northern, Southwestern)        11\n",
       "(Eastern, Western)              11\n",
       "(Northwestern, Southwestern)    11\n",
       "(Northeastern, Western)         10\n",
       "Name: combo, dtype: int64"
      ]
     },
     "execution_count": 64,
     "metadata": {},
     "output_type": "execute_result"
    }
   ],
   "source": [
    "(\n",
    "    connected_cases_districts\n",
    "    .loc[lambda df: df[\"police_district_x\"] != df[\"police_district_y\"]]\n",
    "    .assign(\n",
    "        combo = lambda df: df[[ \"police_district_x\", \"police_district_y\" ]].apply(sorted, axis = 1).apply(tuple)\n",
    "    )\n",
    "    [\"combo\"]\n",
    "    .value_counts()\n",
    "    .loc[lambda x: x >= 10]\n",
    ")"
   ]
  },
  {
   "cell_type": "markdown",
   "metadata": {},
   "source": [
    "# Mapping"
   ]
  },
  {
   "cell_type": "code",
   "execution_count": 65,
   "metadata": {},
   "outputs": [],
   "source": [
    "def tee(df, fn, *args, **kwargs):\n",
    "    fn(df, *args, **kwargs)\n",
    "    return df"
   ]
  },
  {
   "cell_type": "code",
   "execution_count": 66,
   "metadata": {},
   "outputs": [
    {
     "data": {
      "text/html": [
       "<div>\n",
       "<style scoped>\n",
       "    .dataframe tbody tr th:only-of-type {\n",
       "        vertical-align: middle;\n",
       "    }\n",
       "\n",
       "    .dataframe tbody tr th {\n",
       "        vertical-align: top;\n",
       "    }\n",
       "\n",
       "    .dataframe thead th {\n",
       "        text-align: right;\n",
       "    }\n",
       "</style>\n",
       "<table border=\"1\" class=\"dataframe\">\n",
       "  <thead>\n",
       "    <tr style=\"text-align: right;\">\n",
       "      <th></th>\n",
       "      <th>CASE_NUMBER_x</th>\n",
       "      <th>CASE_NUMBER_y</th>\n",
       "      <th>group</th>\n",
       "      <th>geometry_x</th>\n",
       "      <th>police_district_x</th>\n",
       "      <th>geometry_y</th>\n",
       "      <th>police_district_y</th>\n",
       "      <th>geometry</th>\n",
       "      <th>combo</th>\n",
       "    </tr>\n",
       "  </thead>\n",
       "  <tbody>\n",
       "    <tr>\n",
       "      <th>0</th>\n",
       "      <td>12V0001</td>\n",
       "      <td>15H0158</td>\n",
       "      <td>0</td>\n",
       "      <td>POINT (-76.60951490000002 39.3436344)</td>\n",
       "      <td>Northern</td>\n",
       "      <td>POINT (-76.57904090000002 39.3003647)</td>\n",
       "      <td>Eastern</td>\n",
       "      <td>LINESTRING (-76.60951490000002 39.3436344, -76...</td>\n",
       "      <td>(Eastern, Northern)</td>\n",
       "    </tr>\n",
       "    <tr>\n",
       "      <th>2</th>\n",
       "      <td>12V0009</td>\n",
       "      <td>12V0021</td>\n",
       "      <td>2</td>\n",
       "      <td>POINT (-76.64136069999998 39.2922586)</td>\n",
       "      <td>Western</td>\n",
       "      <td>POINT (-76.64390970000002 39.287482)</td>\n",
       "      <td>Southern</td>\n",
       "      <td>LINESTRING (-76.64136069999998 39.2922586, -76...</td>\n",
       "      <td>(Southern, Western)</td>\n",
       "    </tr>\n",
       "    <tr>\n",
       "      <th>4</th>\n",
       "      <td>12V0017</td>\n",
       "      <td>12V0206</td>\n",
       "      <td>3</td>\n",
       "      <td>POINT (-76.622078 39.24608200000001)</td>\n",
       "      <td>Southern</td>\n",
       "      <td>POINT (-76.62741219999999 39.306631)</td>\n",
       "      <td>Central</td>\n",
       "      <td>LINESTRING (-76.622078 39.24608200000001, -76....</td>\n",
       "      <td>(Central, Southern)</td>\n",
       "    </tr>\n",
       "    <tr>\n",
       "      <th>6</th>\n",
       "      <td>12V0021</td>\n",
       "      <td>16H0229</td>\n",
       "      <td>2</td>\n",
       "      <td>POINT (-76.64390970000002 39.287482)</td>\n",
       "      <td>Southern</td>\n",
       "      <td>POINT (-76.65175090000002 39.2896611)</td>\n",
       "      <td>Western</td>\n",
       "      <td>LINESTRING (-76.64390970000002 39.287482, -76....</td>\n",
       "      <td>(Southern, Western)</td>\n",
       "    </tr>\n",
       "    <tr>\n",
       "      <th>7</th>\n",
       "      <td>12V0023</td>\n",
       "      <td>14V0303</td>\n",
       "      <td>5</td>\n",
       "      <td>POINT (-76.57993940000001 39.3306399)</td>\n",
       "      <td>Northeastern</td>\n",
       "      <td>POINT (-76.59485240000002 39.3019838)</td>\n",
       "      <td>Eastern</td>\n",
       "      <td>LINESTRING (-76.57993940000001 39.3306399, -76...</td>\n",
       "      <td>(Eastern, Northeastern)</td>\n",
       "    </tr>\n",
       "  </tbody>\n",
       "</table>\n",
       "</div>"
      ],
      "text/plain": [
       "  CASE_NUMBER_x CASE_NUMBER_y  group                             geometry_x  \\\n",
       "0       12V0001       15H0158      0  POINT (-76.60951490000002 39.3436344)   \n",
       "2       12V0009       12V0021      2  POINT (-76.64136069999998 39.2922586)   \n",
       "4       12V0017       12V0206      3   POINT (-76.622078 39.24608200000001)   \n",
       "6       12V0021       16H0229      2   POINT (-76.64390970000002 39.287482)   \n",
       "7       12V0023       14V0303      5  POINT (-76.57993940000001 39.3306399)   \n",
       "\n",
       "  police_district_x                             geometry_y police_district_y  \\\n",
       "0          Northern  POINT (-76.57904090000002 39.3003647)           Eastern   \n",
       "2           Western   POINT (-76.64390970000002 39.287482)          Southern   \n",
       "4          Southern   POINT (-76.62741219999999 39.306631)           Central   \n",
       "6          Southern  POINT (-76.65175090000002 39.2896611)           Western   \n",
       "7      Northeastern  POINT (-76.59485240000002 39.3019838)           Eastern   \n",
       "\n",
       "                                            geometry                    combo  \n",
       "0  LINESTRING (-76.60951490000002 39.3436344, -76...      (Eastern, Northern)  \n",
       "2  LINESTRING (-76.64136069999998 39.2922586, -76...      (Southern, Western)  \n",
       "4  LINESTRING (-76.622078 39.24608200000001, -76....      (Central, Southern)  \n",
       "6  LINESTRING (-76.64390970000002 39.287482, -76....      (Southern, Western)  \n",
       "7  LINESTRING (-76.57993940000001 39.3306399, -76...  (Eastern, Northeastern)  "
      ]
     },
     "execution_count": 66,
     "metadata": {},
     "output_type": "execute_result"
    }
   ],
   "source": [
    "multi_district_lines = gpd.GeoDataFrame(\n",
    "    connected_cases_districts\n",
    "    .loc[lambda df: df[\"police_district_x\"] != df[\"police_district_y\"]]\n",
    "    .assign(\n",
    "        geometry = lambda df: df[[ \"geometry_x\", \"geometry_y\" ]].apply(LineString, axis = 1),\n",
    "        combo = lambda df: df[[ \"police_district_x\", \"police_district_y\" ]].apply(sorted, axis = 1).apply(tuple)        \n",
    "    )\n",
    ")\n",
    "\n",
    "multi_district_lines.head()"
   ]
  },
  {
   "cell_type": "code",
   "execution_count": 67,
   "metadata": {},
   "outputs": [],
   "source": [
    "def plot_connected_shootings(df, ax):\n",
    "    districts.plot(\n",
    "        ax = ax,\n",
    "        color = \"white\",\n",
    "        edgecolor = \"black\",\n",
    "    )\n",
    "    \n",
    "    (\n",
    "        df\n",
    "        .pipe(tee, lambda df: (\n",
    "            gpd.GeoDataFrame({\n",
    "                \"geometry\": df[\"geometry_x\"]\n",
    "            })\n",
    "            .plot(\n",
    "                ax = ax,\n",
    "                marker = \"o\",\n",
    "                markersize = 8,\n",
    "                color = \"black\",\n",
    "                alpha = 0.3\n",
    "            )\n",
    "        ))\n",
    "        .pipe(tee, lambda df: (\n",
    "            gpd.GeoDataFrame({\n",
    "                \"geometry\": df[\"geometry_y\"]\n",
    "            })\n",
    "            .plot(\n",
    "                ax = ax,\n",
    "                marker = \"o\",\n",
    "                markersize = 8,\n",
    "                color = \"black\",\n",
    "                alpha = 0.3\n",
    "            )\n",
    "        ))\n",
    "        .pipe(tee, lambda df: (\n",
    "            df[[\"geometry\"]]\n",
    "            .plot(\n",
    "                ax = ax,\n",
    "                alpha = 0.3\n",
    "            )\n",
    "        ))    \n",
    "    )\n",
    "    \n",
    "    ax.set_axis_off()"
   ]
  },
  {
   "cell_type": "code",
   "execution_count": 68,
   "metadata": {},
   "outputs": [
    {
     "data": {
      "image/png": "[encoded data removed]",
      "text/plain": [
       "<Figure size 720x720 with 1 Axes>"
      ]
     },
     "metadata": {
      "needs_background": "light"
     },
     "output_type": "display_data"
    }
   ],
   "source": [
    "fig, ax = plt.subplots(\n",
    "    figsize = (10, 10)\n",
    ")\n",
    "\n",
    "plot_connected_shootings(multi_district_lines, ax)\n",
    "\n",
    "ax.set_title(\"Multi-District Connected Shootings\")\n",
    "pass"
   ]
  },
  {
   "cell_type": "markdown",
   "metadata": {},
   "source": [
    "---\n",
    "\n",
    "---\n",
    "\n",
    "---"
   ]
  }
 ],
 "metadata": {
  "kernelspec": {
   "display_name": "Python 3",
   "language": "python",
   "name": "python3"
  },
  "language_info": {
   "codemirror_mode": {
    "name": "ipython",
    "version": 3
   },
   "file_extension": ".py",
   "mimetype": "text/x-python",
   "name": "python",
   "nbconvert_exporter": "python",
   "pygments_lexer": "ipython3",
   "version": "3.6.4"
  }
 },
 "nbformat": 4,
 "nbformat_minor": 2
}
